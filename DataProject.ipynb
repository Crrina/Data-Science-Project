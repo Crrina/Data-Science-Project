{
  "nbformat": 4,
  "nbformat_minor": 0,
  "metadata": {
    "colab": {
      "provenance": []
    },
    "kernelspec": {
      "name": "python3",
      "display_name": "Python 3"
    },
    "language_info": {
      "name": "python"
    }
  },
  "cells": [
    {
      "cell_type": "markdown",
      "source": [
        "# Creating a model that detects spam emails and a POS tagger using the RNN arhitecture."
      ],
      "metadata": {
        "id": "_1VnfFmoY0ce"
      }
    },
    {
      "cell_type": "markdown",
      "source": [
        "# Model that detects spam emails"
      ],
      "metadata": {
        "id": "G8H4FiI2hXzs"
      }
    },
    {
      "cell_type": "markdown",
      "source": [
        "There will be 2 arhitectures, the LSTM and GRU one. The dataset consists of 5572 rows of emails, where X is the email text and Y is the label. The label have 2 values: spam, meaning the email is classified as spam and ham, meaning the email is not classified as spam. The dataset is provided on github."
      ],
      "metadata": {
        "id": "ZdeJgxXNa_WL"
      }
    },
    {
      "cell_type": "code",
      "source": [
        "!pip install Keras-Preprocessing\n",
        "import pandas as pd\n",
        "import re\n",
        "import numpy as np\n",
        "from keras.preprocessing.text import Tokenizer\n",
        "from keras_preprocessing.sequence import pad_sequences\n",
        "from keras.models import Model\n",
        "from sklearn.model_selection import train_test_split\n",
        "from keras.layers import LSTM, GRU, SimpleRNN\n",
        "from keras.models import Sequential\n",
        "from keras.layers import Embedding\n",
        "from keras.layers import Dense, Input\n",
        "from matplotlib import pyplot as plt\n",
        "from keras.layers import TimeDistributed\n",
        "from keras.utils import to_categorical\n",
        "\n",
        "\n"
      ],
      "metadata": {
        "colab": {
          "base_uri": "https://localhost:8080/"
        },
        "id": "4rFmMBoBZgjr",
        "outputId": "0fc1819f-05c5-4543-c66a-3fb5b46262ba"
      },
      "execution_count": 19,
      "outputs": [
        {
          "output_type": "stream",
          "name": "stdout",
          "text": [
            "Requirement already satisfied: Keras-Preprocessing in /usr/local/lib/python3.10/dist-packages (1.1.2)\n",
            "Requirement already satisfied: numpy>=1.9.1 in /usr/local/lib/python3.10/dist-packages (from Keras-Preprocessing) (1.23.5)\n",
            "Requirement already satisfied: six>=1.9.0 in /usr/local/lib/python3.10/dist-packages (from Keras-Preprocessing) (1.16.0)\n"
          ]
        }
      ]
    },
    {
      "cell_type": "code",
      "source": [
        "data = pd.read_csv(\"spam.csv\", encoding='ISO-8859-1')\n",
        "data.head()"
      ],
      "metadata": {
        "colab": {
          "base_uri": "https://localhost:8080/",
          "height": 206
        },
        "id": "yudpdfHBZlO8",
        "outputId": "1c4b866f-8c46-4c81-c9ac-196fea4a65bb"
      },
      "execution_count": 4,
      "outputs": [
        {
          "output_type": "execute_result",
          "data": {
            "text/plain": [
              "     v1                                                 v2 Unnamed: 2  \\\n",
              "0   ham  Go until jurong point, crazy.. Available only ...        NaN   \n",
              "1   ham                      Ok lar... Joking wif u oni...        NaN   \n",
              "2  spam  Free entry in 2 a wkly comp to win FA Cup fina...        NaN   \n",
              "3   ham  U dun say so early hor... U c already then say...        NaN   \n",
              "4   ham  Nah I don't think he goes to usf, he lives aro...        NaN   \n",
              "\n",
              "  Unnamed: 3 Unnamed: 4  \n",
              "0        NaN        NaN  \n",
              "1        NaN        NaN  \n",
              "2        NaN        NaN  \n",
              "3        NaN        NaN  \n",
              "4        NaN        NaN  "
            ],
            "text/html": [
              "\n",
              "  <div id=\"df-4fa032e9-9bcf-4661-abbf-82e625f8e388\" class=\"colab-df-container\">\n",
              "    <div>\n",
              "<style scoped>\n",
              "    .dataframe tbody tr th:only-of-type {\n",
              "        vertical-align: middle;\n",
              "    }\n",
              "\n",
              "    .dataframe tbody tr th {\n",
              "        vertical-align: top;\n",
              "    }\n",
              "\n",
              "    .dataframe thead th {\n",
              "        text-align: right;\n",
              "    }\n",
              "</style>\n",
              "<table border=\"1\" class=\"dataframe\">\n",
              "  <thead>\n",
              "    <tr style=\"text-align: right;\">\n",
              "      <th></th>\n",
              "      <th>v1</th>\n",
              "      <th>v2</th>\n",
              "      <th>Unnamed: 2</th>\n",
              "      <th>Unnamed: 3</th>\n",
              "      <th>Unnamed: 4</th>\n",
              "    </tr>\n",
              "  </thead>\n",
              "  <tbody>\n",
              "    <tr>\n",
              "      <th>0</th>\n",
              "      <td>ham</td>\n",
              "      <td>Go until jurong point, crazy.. Available only ...</td>\n",
              "      <td>NaN</td>\n",
              "      <td>NaN</td>\n",
              "      <td>NaN</td>\n",
              "    </tr>\n",
              "    <tr>\n",
              "      <th>1</th>\n",
              "      <td>ham</td>\n",
              "      <td>Ok lar... Joking wif u oni...</td>\n",
              "      <td>NaN</td>\n",
              "      <td>NaN</td>\n",
              "      <td>NaN</td>\n",
              "    </tr>\n",
              "    <tr>\n",
              "      <th>2</th>\n",
              "      <td>spam</td>\n",
              "      <td>Free entry in 2 a wkly comp to win FA Cup fina...</td>\n",
              "      <td>NaN</td>\n",
              "      <td>NaN</td>\n",
              "      <td>NaN</td>\n",
              "    </tr>\n",
              "    <tr>\n",
              "      <th>3</th>\n",
              "      <td>ham</td>\n",
              "      <td>U dun say so early hor... U c already then say...</td>\n",
              "      <td>NaN</td>\n",
              "      <td>NaN</td>\n",
              "      <td>NaN</td>\n",
              "    </tr>\n",
              "    <tr>\n",
              "      <th>4</th>\n",
              "      <td>ham</td>\n",
              "      <td>Nah I don't think he goes to usf, he lives aro...</td>\n",
              "      <td>NaN</td>\n",
              "      <td>NaN</td>\n",
              "      <td>NaN</td>\n",
              "    </tr>\n",
              "  </tbody>\n",
              "</table>\n",
              "</div>\n",
              "    <div class=\"colab-df-buttons\">\n",
              "\n",
              "  <div class=\"colab-df-container\">\n",
              "    <button class=\"colab-df-convert\" onclick=\"convertToInteractive('df-4fa032e9-9bcf-4661-abbf-82e625f8e388')\"\n",
              "            title=\"Convert this dataframe to an interactive table.\"\n",
              "            style=\"display:none;\">\n",
              "\n",
              "  <svg xmlns=\"http://www.w3.org/2000/svg\" height=\"24px\" viewBox=\"0 -960 960 960\">\n",
              "    <path d=\"M120-120v-720h720v720H120Zm60-500h600v-160H180v160Zm220 220h160v-160H400v160Zm0 220h160v-160H400v160ZM180-400h160v-160H180v160Zm440 0h160v-160H620v160ZM180-180h160v-160H180v160Zm440 0h160v-160H620v160Z\"/>\n",
              "  </svg>\n",
              "    </button>\n",
              "\n",
              "  <style>\n",
              "    .colab-df-container {\n",
              "      display:flex;\n",
              "      gap: 12px;\n",
              "    }\n",
              "\n",
              "    .colab-df-convert {\n",
              "      background-color: #E8F0FE;\n",
              "      border: none;\n",
              "      border-radius: 50%;\n",
              "      cursor: pointer;\n",
              "      display: none;\n",
              "      fill: #1967D2;\n",
              "      height: 32px;\n",
              "      padding: 0 0 0 0;\n",
              "      width: 32px;\n",
              "    }\n",
              "\n",
              "    .colab-df-convert:hover {\n",
              "      background-color: #E2EBFA;\n",
              "      box-shadow: 0px 1px 2px rgba(60, 64, 67, 0.3), 0px 1px 3px 1px rgba(60, 64, 67, 0.15);\n",
              "      fill: #174EA6;\n",
              "    }\n",
              "\n",
              "    .colab-df-buttons div {\n",
              "      margin-bottom: 4px;\n",
              "    }\n",
              "\n",
              "    [theme=dark] .colab-df-convert {\n",
              "      background-color: #3B4455;\n",
              "      fill: #D2E3FC;\n",
              "    }\n",
              "\n",
              "    [theme=dark] .colab-df-convert:hover {\n",
              "      background-color: #434B5C;\n",
              "      box-shadow: 0px 1px 3px 1px rgba(0, 0, 0, 0.15);\n",
              "      filter: drop-shadow(0px 1px 2px rgba(0, 0, 0, 0.3));\n",
              "      fill: #FFFFFF;\n",
              "    }\n",
              "  </style>\n",
              "\n",
              "    <script>\n",
              "      const buttonEl =\n",
              "        document.querySelector('#df-4fa032e9-9bcf-4661-abbf-82e625f8e388 button.colab-df-convert');\n",
              "      buttonEl.style.display =\n",
              "        google.colab.kernel.accessAllowed ? 'block' : 'none';\n",
              "\n",
              "      async function convertToInteractive(key) {\n",
              "        const element = document.querySelector('#df-4fa032e9-9bcf-4661-abbf-82e625f8e388');\n",
              "        const dataTable =\n",
              "          await google.colab.kernel.invokeFunction('convertToInteractive',\n",
              "                                                    [key], {});\n",
              "        if (!dataTable) return;\n",
              "\n",
              "        const docLinkHtml = 'Like what you see? Visit the ' +\n",
              "          '<a target=\"_blank\" href=https://colab.research.google.com/notebooks/data_table.ipynb>data table notebook</a>'\n",
              "          + ' to learn more about interactive tables.';\n",
              "        element.innerHTML = '';\n",
              "        dataTable['output_type'] = 'display_data';\n",
              "        await google.colab.output.renderOutput(dataTable, element);\n",
              "        const docLink = document.createElement('div');\n",
              "        docLink.innerHTML = docLinkHtml;\n",
              "        element.appendChild(docLink);\n",
              "      }\n",
              "    </script>\n",
              "  </div>\n",
              "\n",
              "\n",
              "<div id=\"df-dbd11866-0539-4e05-a8d7-9113655ec707\">\n",
              "  <button class=\"colab-df-quickchart\" onclick=\"quickchart('df-dbd11866-0539-4e05-a8d7-9113655ec707')\"\n",
              "            title=\"Suggest charts\"\n",
              "            style=\"display:none;\">\n",
              "\n",
              "<svg xmlns=\"http://www.w3.org/2000/svg\" height=\"24px\"viewBox=\"0 0 24 24\"\n",
              "     width=\"24px\">\n",
              "    <g>\n",
              "        <path d=\"M19 3H5c-1.1 0-2 .9-2 2v14c0 1.1.9 2 2 2h14c1.1 0 2-.9 2-2V5c0-1.1-.9-2-2-2zM9 17H7v-7h2v7zm4 0h-2V7h2v10zm4 0h-2v-4h2v4z\"/>\n",
              "    </g>\n",
              "</svg>\n",
              "  </button>\n",
              "\n",
              "<style>\n",
              "  .colab-df-quickchart {\n",
              "      --bg-color: #E8F0FE;\n",
              "      --fill-color: #1967D2;\n",
              "      --hover-bg-color: #E2EBFA;\n",
              "      --hover-fill-color: #174EA6;\n",
              "      --disabled-fill-color: #AAA;\n",
              "      --disabled-bg-color: #DDD;\n",
              "  }\n",
              "\n",
              "  [theme=dark] .colab-df-quickchart {\n",
              "      --bg-color: #3B4455;\n",
              "      --fill-color: #D2E3FC;\n",
              "      --hover-bg-color: #434B5C;\n",
              "      --hover-fill-color: #FFFFFF;\n",
              "      --disabled-bg-color: #3B4455;\n",
              "      --disabled-fill-color: #666;\n",
              "  }\n",
              "\n",
              "  .colab-df-quickchart {\n",
              "    background-color: var(--bg-color);\n",
              "    border: none;\n",
              "    border-radius: 50%;\n",
              "    cursor: pointer;\n",
              "    display: none;\n",
              "    fill: var(--fill-color);\n",
              "    height: 32px;\n",
              "    padding: 0;\n",
              "    width: 32px;\n",
              "  }\n",
              "\n",
              "  .colab-df-quickchart:hover {\n",
              "    background-color: var(--hover-bg-color);\n",
              "    box-shadow: 0 1px 2px rgba(60, 64, 67, 0.3), 0 1px 3px 1px rgba(60, 64, 67, 0.15);\n",
              "    fill: var(--button-hover-fill-color);\n",
              "  }\n",
              "\n",
              "  .colab-df-quickchart-complete:disabled,\n",
              "  .colab-df-quickchart-complete:disabled:hover {\n",
              "    background-color: var(--disabled-bg-color);\n",
              "    fill: var(--disabled-fill-color);\n",
              "    box-shadow: none;\n",
              "  }\n",
              "\n",
              "  .colab-df-spinner {\n",
              "    border: 2px solid var(--fill-color);\n",
              "    border-color: transparent;\n",
              "    border-bottom-color: var(--fill-color);\n",
              "    animation:\n",
              "      spin 1s steps(1) infinite;\n",
              "  }\n",
              "\n",
              "  @keyframes spin {\n",
              "    0% {\n",
              "      border-color: transparent;\n",
              "      border-bottom-color: var(--fill-color);\n",
              "      border-left-color: var(--fill-color);\n",
              "    }\n",
              "    20% {\n",
              "      border-color: transparent;\n",
              "      border-left-color: var(--fill-color);\n",
              "      border-top-color: var(--fill-color);\n",
              "    }\n",
              "    30% {\n",
              "      border-color: transparent;\n",
              "      border-left-color: var(--fill-color);\n",
              "      border-top-color: var(--fill-color);\n",
              "      border-right-color: var(--fill-color);\n",
              "    }\n",
              "    40% {\n",
              "      border-color: transparent;\n",
              "      border-right-color: var(--fill-color);\n",
              "      border-top-color: var(--fill-color);\n",
              "    }\n",
              "    60% {\n",
              "      border-color: transparent;\n",
              "      border-right-color: var(--fill-color);\n",
              "    }\n",
              "    80% {\n",
              "      border-color: transparent;\n",
              "      border-right-color: var(--fill-color);\n",
              "      border-bottom-color: var(--fill-color);\n",
              "    }\n",
              "    90% {\n",
              "      border-color: transparent;\n",
              "      border-bottom-color: var(--fill-color);\n",
              "    }\n",
              "  }\n",
              "</style>\n",
              "\n",
              "  <script>\n",
              "    async function quickchart(key) {\n",
              "      const quickchartButtonEl =\n",
              "        document.querySelector('#' + key + ' button');\n",
              "      quickchartButtonEl.disabled = true;  // To prevent multiple clicks.\n",
              "      quickchartButtonEl.classList.add('colab-df-spinner');\n",
              "      try {\n",
              "        const charts = await google.colab.kernel.invokeFunction(\n",
              "            'suggestCharts', [key], {});\n",
              "      } catch (error) {\n",
              "        console.error('Error during call to suggestCharts:', error);\n",
              "      }\n",
              "      quickchartButtonEl.classList.remove('colab-df-spinner');\n",
              "      quickchartButtonEl.classList.add('colab-df-quickchart-complete');\n",
              "    }\n",
              "    (() => {\n",
              "      let quickchartButtonEl =\n",
              "        document.querySelector('#df-dbd11866-0539-4e05-a8d7-9113655ec707 button');\n",
              "      quickchartButtonEl.style.display =\n",
              "        google.colab.kernel.accessAllowed ? 'block' : 'none';\n",
              "    })();\n",
              "  </script>\n",
              "</div>\n",
              "    </div>\n",
              "  </div>\n"
            ]
          },
          "metadata": {},
          "execution_count": 4
        }
      ]
    },
    {
      "cell_type": "code",
      "source": [
        "print(f\"The number of rows are: {data.shape[0]}\")\n",
        "x = data.v2\n",
        "y = data.v1"
      ],
      "metadata": {
        "colab": {
          "base_uri": "https://localhost:8080/"
        },
        "id": "H1Z39o9eaHgA",
        "outputId": "a8b53f11-62ee-4409-ce1d-2f5b9f95fe63"
      },
      "execution_count": 5,
      "outputs": [
        {
          "output_type": "stream",
          "name": "stdout",
          "text": [
            "The number of rows are: 5572\n"
          ]
        }
      ]
    },
    {
      "cell_type": "markdown",
      "source": [
        "## Data Preprocessing"
      ],
      "metadata": {
        "id": "76TC1SaOcK23"
      }
    },
    {
      "cell_type": "markdown",
      "source": [
        "Making the text lowercase -> reducing the complexity of the model"
      ],
      "metadata": {
        "id": "p-V5iDFucrsv"
      }
    },
    {
      "cell_type": "code",
      "source": [
        "def to_lower(value):\n",
        "  x_lower = value.map(lambda x: x.lower())\n",
        "  return x_lower"
      ],
      "metadata": {
        "id": "xjR38Q3Ccbt3"
      },
      "execution_count": 6,
      "outputs": []
    },
    {
      "cell_type": "code",
      "source": [
        "#making a copy of the column x, so we do not make changes to the actual data\n",
        "x_copy = x.copy()\n",
        "x_copy = to_lower(x_copy)"
      ],
      "metadata": {
        "id": "LT2u9ZnbdNWc"
      },
      "execution_count": 7,
      "outputs": []
    },
    {
      "cell_type": "code",
      "source": [
        "x_copy.head()"
      ],
      "metadata": {
        "colab": {
          "base_uri": "https://localhost:8080/"
        },
        "id": "iiEHvbONe_gm",
        "outputId": "079b8d62-0483-4108-d90e-91c56a19f70c"
      },
      "execution_count": 8,
      "outputs": [
        {
          "output_type": "execute_result",
          "data": {
            "text/plain": [
              "0    go until jurong point, crazy.. available only ...\n",
              "1                        ok lar... joking wif u oni...\n",
              "2    free entry in 2 a wkly comp to win fa cup fina...\n",
              "3    u dun say so early hor... u c already then say...\n",
              "4    nah i don't think he goes to usf, he lives aro...\n",
              "Name: v2, dtype: object"
            ]
          },
          "metadata": {},
          "execution_count": 8
        }
      ]
    },
    {
      "cell_type": "markdown",
      "source": [
        "Removal of special characters, numbers. For this everything that is not in the pattern is removed."
      ],
      "metadata": {
        "id": "pd2q6JXcfErE"
      }
    },
    {
      "cell_type": "code",
      "source": [
        "def clean_text(value):\n",
        "  #only small letters and big letters are kept\n",
        "  pattern = '[^a-zA-Z\\s]'\n",
        "  processed_data = []\n",
        "  for i in value:\n",
        "    new_value = re.sub(pattern, '', i)\n",
        "    processed_data.append(new_value)\n",
        "  return processed_data"
      ],
      "metadata": {
        "id": "IEpNZDIqffhP"
      },
      "execution_count": 9,
      "outputs": []
    },
    {
      "cell_type": "code",
      "source": [
        "x_copy = clean_text(x_copy)\n",
        "print(x_copy[0])"
      ],
      "metadata": {
        "colab": {
          "base_uri": "https://localhost:8080/"
        },
        "id": "TsAVa9JnhB6E",
        "outputId": "0b6c789f-3a6b-46f6-91ee-a0cb11f8dddd"
      },
      "execution_count": 72,
      "outputs": [
        {
          "output_type": "stream",
          "name": "stdout",
          "text": [
            "go until jurong point crazy available only in bugis n great world la e buffet cine there got amore wat\n"
          ]
        }
      ]
    },
    {
      "cell_type": "markdown",
      "source": [
        "Processing the label y. We encode spam as 1 and ham as 0."
      ],
      "metadata": {
        "id": "gZNsX2W8huSl"
      }
    },
    {
      "cell_type": "code",
      "source": [
        "counter = 0\n",
        "arr = []\n",
        "for label in y:\n",
        "    if label == 'spam':\n",
        "        counter += 1\n",
        "        arr.append(1)\n",
        "    else:\n",
        "        arr.append(0)\n",
        "\n",
        "y_copy = arr\n",
        "# Convert y to a numpy array and reshape it\n",
        "y_copy = np.array(y_copy).reshape(-1, 1)\n",
        "\n",
        "y_copy #(ne, 1)\n"
      ],
      "metadata": {
        "colab": {
          "base_uri": "https://localhost:8080/"
        },
        "id": "m-QU7eWGhi72",
        "outputId": "b1835ed9-5f37-4ca9-e12e-c4d2fc48da3e"
      },
      "execution_count": 73,
      "outputs": [
        {
          "output_type": "execute_result",
          "data": {
            "text/plain": [
              "array([[0],\n",
              "       [0],\n",
              "       [1],\n",
              "       ...,\n",
              "       [0],\n",
              "       [0],\n",
              "       [0]])"
            ]
          },
          "metadata": {},
          "execution_count": 73
        }
      ]
    },
    {
      "cell_type": "code",
      "source": [
        "print(f\"There are {counter} spam emails and {data.shape[0] - counter} not spam emails\")"
      ],
      "metadata": {
        "colab": {
          "base_uri": "https://localhost:8080/"
        },
        "id": "ubiiBgqaKCSK",
        "outputId": "d5db6158-d900-43ea-b812-ac220e1b881c"
      },
      "execution_count": 74,
      "outputs": [
        {
          "output_type": "stream",
          "name": "stdout",
          "text": [
            "There are 747 spam emails and 4825 not spam emails\n"
          ]
        }
      ]
    },
    {
      "cell_type": "markdown",
      "source": [
        "## Tokenization using Keras Tokenizer class.\n",
        "Every unique word is encoded as an unique integer. No two different words can have the same integer. In this way we keep track of the words order, which makes the model more accurately classify the emails."
      ],
      "metadata": {
        "id": "W24AICN-iZJH"
      }
    },
    {
      "cell_type": "code",
      "source": [
        "tokenizer = Tokenizer()\n",
        "tokenizer.fit_on_texts(x_copy)\n",
        "#converts text to sequence of integers\n",
        "x_encoded = tokenizer.texts_to_sequences(x_copy)\n",
        "vocab_word_to_index = tokenizer.word_index"
      ],
      "metadata": {
        "id": "6vSHz7Uejw8-"
      },
      "execution_count": 12,
      "outputs": []
    },
    {
      "cell_type": "code",
      "source": [
        "print(x_copy[25])\n",
        "print(x_encoded[25])"
      ],
      "metadata": {
        "colab": {
          "base_uri": "https://localhost:8080/"
        },
        "id": "R-gfvfxZkE3m",
        "outputId": "db723a07-ae6d-4fee-c811-a9cdbaeb17be"
      },
      "execution_count": 13,
      "outputs": [
        {
          "output_type": "stream",
          "name": "stdout",
          "text": [
            "just forced myself to eat a slice im really not hungry tho this sucks mark is getting worried he knows im sick when i turn down pizza lol\n",
            "[36, 3982, 934, 1, 310, 4, 2715, 22, 146, 24, 735, 633, 39, 1218, 1107, 9, 242, 1015, 70, 935, 22, 1016, 43, 2, 1766, 223, 1108, 175]\n"
          ]
        }
      ]
    },
    {
      "cell_type": "markdown",
      "source": [
        "## Padding using pad_sequences() from Keras"
      ],
      "metadata": {
        "id": "VxdznwZmx8ej"
      }
    },
    {
      "cell_type": "markdown",
      "source": [
        "When we pad the sequences we want to know how many times to unroll the network. For this we get the lengths of all documents and choose the biggest one for maxlen."
      ],
      "metadata": {
        "id": "3NSb3_h0mfpn"
      }
    },
    {
      "cell_type": "code",
      "source": [
        "def lenghts(X):\n",
        "    arr = []\n",
        "  #loop through each row\n",
        "    for i in X:\n",
        "        arr.append(len(i))\n",
        "    return arr\n",
        "\n",
        "\n",
        "length = max(lenghts(x_encoded))\n",
        "print(f'The length of the largest document is {length}')"
      ],
      "metadata": {
        "colab": {
          "base_uri": "https://localhost:8080/"
        },
        "id": "sfSsiofguCMx",
        "outputId": "ae9652dd-11f3-4ad5-d097-4dcad64e61fd"
      },
      "execution_count": 14,
      "outputs": [
        {
          "output_type": "stream",
          "name": "stdout",
          "text": [
            "The length of the largest document is 171\n"
          ]
        }
      ]
    },
    {
      "cell_type": "markdown",
      "source": [
        "We proceed to pad the sequences using Keras pad_sequences(). Sentences longer than maxlen will be truncated, sentences shorter than maxlen will be padded with 0. The padding is done before the sentence and the trucating after the sentence.\n",
        "vocab_size is the size of the vocabulary, the number of unique integers of the tokenized data. Since the Keras Tokenizer starts numbering tokens from 1, searching for the largest integer in the x_padded 2D array is our approach. At the end we add 1 to the vocab_size to account for padding."
      ],
      "metadata": {
        "id": "M24_LYU3uYNr"
      }
    },
    {
      "cell_type": "code",
      "source": [
        "x_padded = pad_sequences(x_encoded, maxlen= length, padding='pre', truncating='post')\n",
        "vocab_size = np.max(np.array(x_padded)) + 1\n",
        "print(f'The size of vocab is {vocab_size}')"
      ],
      "metadata": {
        "colab": {
          "base_uri": "https://localhost:8080/"
        },
        "id": "8OjfwWMiu8rJ",
        "outputId": "45d134b6-3c67-409d-b01c-233a4cdd7068"
      },
      "execution_count": 15,
      "outputs": [
        {
          "output_type": "stream",
          "name": "stdout",
          "text": [
            "The size of vocab is 8541\n"
          ]
        }
      ]
    },
    {
      "cell_type": "code",
      "source": [
        "print(x_copy[10])\n",
        "print(x_encoded[10])\n",
        "print(x_padded[10])"
      ],
      "metadata": {
        "colab": {
          "base_uri": "https://localhost:8080/"
        },
        "id": "vbmpkwDDxmx9",
        "outputId": "c322544c-95f9-4035-cb2e-a8c36ca62f90"
      },
      "execution_count": 16,
      "outputs": [
        {
          "output_type": "stream",
          "name": "stdout",
          "text": [
            "im gonna be home soon and i dont want to talk about this stuff anymore tonight k ive cried enough today\n",
            "[22, 218, 31, 78, 208, 7, 2, 42, 67, 1, 263, 75, 39, 277, 1104, 209, 151, 168, 3968, 411, 89]\n",
            "[   0    0    0    0    0    0    0    0    0    0    0    0    0    0\n",
            "    0    0    0    0    0    0    0    0    0    0    0    0    0    0\n",
            "    0    0    0    0    0    0    0    0    0    0    0    0    0    0\n",
            "    0    0    0    0    0    0    0    0    0    0    0    0    0    0\n",
            "    0    0    0    0    0    0    0    0    0    0    0    0    0    0\n",
            "    0    0    0    0    0    0    0    0    0    0    0    0    0    0\n",
            "    0    0    0    0    0    0    0    0    0    0    0    0    0    0\n",
            "    0    0    0    0    0    0    0    0    0    0    0    0    0    0\n",
            "    0    0    0    0    0    0    0    0    0    0    0    0    0    0\n",
            "    0    0    0    0    0    0    0    0    0    0    0    0    0    0\n",
            "    0    0    0    0    0    0    0    0    0    0   22  218   31   78\n",
            "  208    7    2   42   67    1  263   75   39  277 1104  209  151  168\n",
            " 3968  411   89]\n"
          ]
        }
      ]
    },
    {
      "cell_type": "markdown",
      "source": [
        "## Splitting the data into train and test"
      ],
      "metadata": {
        "id": "z9cCTQLwyLHk"
      }
    },
    {
      "cell_type": "code",
      "source": [
        "X_train, X_test, y_train, y_test = train_test_split(x_padded, y_copy, test_size=0.25, random_state=100)"
      ],
      "metadata": {
        "id": "DH-n7aWUyOp-"
      },
      "execution_count": 22,
      "outputs": []
    },
    {
      "cell_type": "markdown",
      "source": [
        "## Implemenation\n",
        "We start with the LSTM a special arhitecure of RNN, which is intended to better capture long-term dependencies compared to traditional RNNs. They are capable of learning long-term dependencies in sequence data.\n",
        "The integers are mapped to denes vectors of size 64, being the dimension of the embeddings. A LSTM layer of 32 neurons is added and the activation function is sigmoid, as binary classification is performed.\n"
      ],
      "metadata": {
        "id": "MPO7MKzh4yFU"
      }
    },
    {
      "cell_type": "code",
      "source": [
        "model = Sequential()\n",
        "model.add(Embedding(input_dim=vocab_size, output_dim=64, input_length= length))\n",
        "model.add(LSTM(32))\n",
        "model.add(Dense(1, activation='sigmoid'))\n",
        "model.summary()"
      ],
      "metadata": {
        "colab": {
          "base_uri": "https://localhost:8080/"
        },
        "id": "ra54K_Of5tbI",
        "outputId": "e37052ce-085c-48a5-cdab-413b2fe59188"
      },
      "execution_count": 23,
      "outputs": [
        {
          "output_type": "stream",
          "name": "stdout",
          "text": [
            "Model: \"sequential_1\"\n",
            "_________________________________________________________________\n",
            " Layer (type)                Output Shape              Param #   \n",
            "=================================================================\n",
            " embedding_1 (Embedding)     (None, 171, 64)           546624    \n",
            "                                                                 \n",
            " lstm_1 (LSTM)               (None, 32)                12416     \n",
            "                                                                 \n",
            " dense_1 (Dense)             (None, 1)                 33        \n",
            "                                                                 \n",
            "=================================================================\n",
            "Total params: 559073 (2.13 MB)\n",
            "Trainable params: 559073 (2.13 MB)\n",
            "Non-trainable params: 0 (0.00 Byte)\n",
            "_________________________________________________________________\n"
          ]
        }
      ]
    },
    {
      "cell_type": "code",
      "source": [
        "model.compile(optimizer='adam', loss='binary_crossentropy', metrics=['accuracy'])\n"
      ],
      "metadata": {
        "id": "QbfPaITN64pf"
      },
      "execution_count": 24,
      "outputs": []
    },
    {
      "cell_type": "code",
      "source": [
        "#training the model for 80 epochs, which is appropriate given the batch_size and iterable data size\n",
        "model.fit(X_train, y_train, epochs=80, validation_data=(X_test, y_test), batch_size= 45)"
      ],
      "metadata": {
        "colab": {
          "base_uri": "https://localhost:8080/"
        },
        "id": "Pvj3-sXE66Yu",
        "outputId": "565a24da-7e0c-480b-91ec-5b06f82d471d"
      },
      "execution_count": 25,
      "outputs": [
        {
          "output_type": "stream",
          "name": "stdout",
          "text": [
            "Epoch 1/80\n",
            "93/93 [==============================] - 8s 66ms/step - loss: 0.2973 - accuracy: 0.9048 - val_loss: 0.0887 - val_accuracy: 0.9799\n",
            "Epoch 2/80\n",
            "93/93 [==============================] - 5s 55ms/step - loss: 0.0610 - accuracy: 0.9842 - val_loss: 0.0546 - val_accuracy: 0.9871\n",
            "Epoch 3/80\n",
            "93/93 [==============================] - 6s 60ms/step - loss: 0.0229 - accuracy: 0.9950 - val_loss: 0.0489 - val_accuracy: 0.9864\n",
            "Epoch 4/80\n",
            "93/93 [==============================] - 5s 58ms/step - loss: 0.0134 - accuracy: 0.9974 - val_loss: 0.0455 - val_accuracy: 0.9899\n",
            "Epoch 5/80\n",
            "93/93 [==============================] - 6s 65ms/step - loss: 0.0064 - accuracy: 0.9990 - val_loss: 0.0509 - val_accuracy: 0.9892\n",
            "Epoch 6/80\n",
            "93/93 [==============================] - 6s 66ms/step - loss: 0.0044 - accuracy: 0.9990 - val_loss: 0.0567 - val_accuracy: 0.9878\n",
            "Epoch 7/80\n",
            "93/93 [==============================] - 6s 61ms/step - loss: 0.0030 - accuracy: 0.9993 - val_loss: 0.0892 - val_accuracy: 0.9742\n",
            "Epoch 8/80\n",
            "93/93 [==============================] - 7s 73ms/step - loss: 0.0025 - accuracy: 0.9995 - val_loss: 0.0555 - val_accuracy: 0.9899\n",
            "Epoch 9/80\n",
            "93/93 [==============================] - 7s 72ms/step - loss: 0.0014 - accuracy: 0.9995 - val_loss: 0.0608 - val_accuracy: 0.9878\n",
            "Epoch 10/80\n",
            "93/93 [==============================] - 6s 64ms/step - loss: 0.0012 - accuracy: 0.9998 - val_loss: 0.0581 - val_accuracy: 0.9899\n",
            "Epoch 11/80\n",
            "93/93 [==============================] - 5s 59ms/step - loss: 8.2029e-04 - accuracy: 0.9998 - val_loss: 0.0623 - val_accuracy: 0.9892\n",
            "Epoch 12/80\n",
            "93/93 [==============================] - 5s 55ms/step - loss: 6.1397e-04 - accuracy: 1.0000 - val_loss: 0.0675 - val_accuracy: 0.9892\n",
            "Epoch 13/80\n",
            "93/93 [==============================] - 6s 60ms/step - loss: 5.5439e-04 - accuracy: 1.0000 - val_loss: 0.0692 - val_accuracy: 0.9878\n",
            "Epoch 14/80\n",
            "93/93 [==============================] - 5s 54ms/step - loss: 4.8979e-04 - accuracy: 1.0000 - val_loss: 0.0686 - val_accuracy: 0.9899\n",
            "Epoch 15/80\n",
            "93/93 [==============================] - 6s 60ms/step - loss: 3.6298e-04 - accuracy: 1.0000 - val_loss: 0.0742 - val_accuracy: 0.9885\n",
            "Epoch 16/80\n",
            "93/93 [==============================] - 5s 54ms/step - loss: 3.4931e-04 - accuracy: 1.0000 - val_loss: 0.0694 - val_accuracy: 0.9885\n",
            "Epoch 17/80\n",
            "93/93 [==============================] - 6s 60ms/step - loss: 2.9291e-04 - accuracy: 1.0000 - val_loss: 0.0732 - val_accuracy: 0.9885\n",
            "Epoch 18/80\n",
            "93/93 [==============================] - 5s 58ms/step - loss: 2.3165e-04 - accuracy: 1.0000 - val_loss: 0.0737 - val_accuracy: 0.9899\n",
            "Epoch 19/80\n",
            "93/93 [==============================] - 7s 73ms/step - loss: 2.3218e-04 - accuracy: 1.0000 - val_loss: 0.0738 - val_accuracy: 0.9885\n",
            "Epoch 20/80\n",
            "93/93 [==============================] - 5s 54ms/step - loss: 1.9333e-04 - accuracy: 1.0000 - val_loss: 0.0780 - val_accuracy: 0.9885\n",
            "Epoch 21/80\n",
            "93/93 [==============================] - 5s 55ms/step - loss: 1.6142e-04 - accuracy: 1.0000 - val_loss: 0.0831 - val_accuracy: 0.9885\n",
            "Epoch 22/80\n",
            "93/93 [==============================] - 5s 56ms/step - loss: 1.6950e-04 - accuracy: 1.0000 - val_loss: 0.0783 - val_accuracy: 0.9885\n",
            "Epoch 23/80\n",
            "93/93 [==============================] - 5s 54ms/step - loss: 1.3641e-04 - accuracy: 1.0000 - val_loss: 0.0810 - val_accuracy: 0.9885\n",
            "Epoch 24/80\n",
            "93/93 [==============================] - 6s 61ms/step - loss: 1.1705e-04 - accuracy: 1.0000 - val_loss: 0.0842 - val_accuracy: 0.9885\n",
            "Epoch 25/80\n",
            "93/93 [==============================] - 5s 55ms/step - loss: 1.0711e-04 - accuracy: 1.0000 - val_loss: 0.0858 - val_accuracy: 0.9885\n",
            "Epoch 26/80\n",
            "93/93 [==============================] - 7s 70ms/step - loss: 9.5625e-05 - accuracy: 1.0000 - val_loss: 0.0875 - val_accuracy: 0.9878\n",
            "Epoch 27/80\n",
            "93/93 [==============================] - 6s 63ms/step - loss: 8.5379e-05 - accuracy: 1.0000 - val_loss: 0.0857 - val_accuracy: 0.9878\n",
            "Epoch 28/80\n",
            "93/93 [==============================] - 6s 67ms/step - loss: 9.9558e-05 - accuracy: 1.0000 - val_loss: 0.0816 - val_accuracy: 0.9885\n",
            "Epoch 29/80\n",
            "93/93 [==============================] - 5s 54ms/step - loss: 7.8266e-05 - accuracy: 1.0000 - val_loss: 0.0866 - val_accuracy: 0.9878\n",
            "Epoch 30/80\n",
            "93/93 [==============================] - 6s 65ms/step - loss: 6.7282e-05 - accuracy: 1.0000 - val_loss: 0.0916 - val_accuracy: 0.9878\n",
            "Epoch 31/80\n",
            "93/93 [==============================] - 5s 54ms/step - loss: 6.3587e-05 - accuracy: 1.0000 - val_loss: 0.0917 - val_accuracy: 0.9871\n",
            "Epoch 32/80\n",
            "93/93 [==============================] - 6s 61ms/step - loss: 5.6629e-05 - accuracy: 1.0000 - val_loss: 0.0930 - val_accuracy: 0.9864\n",
            "Epoch 33/80\n",
            "93/93 [==============================] - 5s 54ms/step - loss: 5.1536e-05 - accuracy: 1.0000 - val_loss: 0.0953 - val_accuracy: 0.9878\n",
            "Epoch 34/80\n",
            "93/93 [==============================] - 6s 60ms/step - loss: 4.8759e-05 - accuracy: 1.0000 - val_loss: 0.0958 - val_accuracy: 0.9871\n",
            "Epoch 35/80\n",
            "93/93 [==============================] - 5s 55ms/step - loss: 4.6633e-05 - accuracy: 1.0000 - val_loss: 0.1008 - val_accuracy: 0.9856\n",
            "Epoch 36/80\n",
            "93/93 [==============================] - 6s 60ms/step - loss: 4.0861e-05 - accuracy: 1.0000 - val_loss: 0.1064 - val_accuracy: 0.9849\n",
            "Epoch 37/80\n",
            "93/93 [==============================] - 5s 56ms/step - loss: 3.8004e-05 - accuracy: 1.0000 - val_loss: 0.1091 - val_accuracy: 0.9849\n",
            "Epoch 38/80\n",
            "93/93 [==============================] - 6s 59ms/step - loss: 3.5111e-05 - accuracy: 1.0000 - val_loss: 0.1092 - val_accuracy: 0.9856\n",
            "Epoch 39/80\n",
            "93/93 [==============================] - 7s 75ms/step - loss: 3.2162e-05 - accuracy: 1.0000 - val_loss: 0.1140 - val_accuracy: 0.9842\n",
            "Epoch 40/80\n",
            "93/93 [==============================] - 6s 61ms/step - loss: 3.0318e-05 - accuracy: 1.0000 - val_loss: 0.1146 - val_accuracy: 0.9849\n",
            "Epoch 41/80\n",
            "93/93 [==============================] - 6s 60ms/step - loss: 2.8467e-05 - accuracy: 1.0000 - val_loss: 0.1048 - val_accuracy: 0.9856\n",
            "Epoch 42/80\n",
            "93/93 [==============================] - 6s 60ms/step - loss: 2.7752e-05 - accuracy: 1.0000 - val_loss: 0.1009 - val_accuracy: 0.9878\n",
            "Epoch 43/80\n",
            "93/93 [==============================] - 5s 56ms/step - loss: 2.5847e-05 - accuracy: 1.0000 - val_loss: 0.1055 - val_accuracy: 0.9864\n",
            "Epoch 44/80\n",
            "93/93 [==============================] - 6s 62ms/step - loss: 2.3795e-05 - accuracy: 1.0000 - val_loss: 0.1088 - val_accuracy: 0.9864\n",
            "Epoch 45/80\n",
            "93/93 [==============================] - 6s 62ms/step - loss: 2.2108e-05 - accuracy: 1.0000 - val_loss: 0.1151 - val_accuracy: 0.9849\n",
            "Epoch 46/80\n",
            "93/93 [==============================] - 5s 57ms/step - loss: 2.1397e-05 - accuracy: 1.0000 - val_loss: 0.1150 - val_accuracy: 0.9849\n",
            "Epoch 47/80\n",
            "93/93 [==============================] - 6s 62ms/step - loss: 2.0016e-05 - accuracy: 1.0000 - val_loss: 0.1101 - val_accuracy: 0.9871\n",
            "Epoch 48/80\n",
            "93/93 [==============================] - 6s 63ms/step - loss: 1.8862e-05 - accuracy: 1.0000 - val_loss: 0.1145 - val_accuracy: 0.9864\n",
            "Epoch 49/80\n",
            "93/93 [==============================] - 7s 71ms/step - loss: 1.7307e-05 - accuracy: 1.0000 - val_loss: 0.1135 - val_accuracy: 0.9871\n",
            "Epoch 50/80\n",
            "93/93 [==============================] - 5s 59ms/step - loss: 1.6550e-05 - accuracy: 1.0000 - val_loss: 0.1143 - val_accuracy: 0.9871\n",
            "Epoch 51/80\n",
            "93/93 [==============================] - 5s 57ms/step - loss: 1.5369e-05 - accuracy: 1.0000 - val_loss: 0.1222 - val_accuracy: 0.9842\n",
            "Epoch 52/80\n",
            "93/93 [==============================] - 5s 57ms/step - loss: 1.4431e-05 - accuracy: 1.0000 - val_loss: 0.1191 - val_accuracy: 0.9864\n",
            "Epoch 53/80\n",
            "93/93 [==============================] - 6s 60ms/step - loss: 1.3740e-05 - accuracy: 1.0000 - val_loss: 0.1226 - val_accuracy: 0.9842\n",
            "Epoch 54/80\n",
            "93/93 [==============================] - 5s 55ms/step - loss: 1.3196e-05 - accuracy: 1.0000 - val_loss: 0.1277 - val_accuracy: 0.9842\n",
            "Epoch 55/80\n",
            "93/93 [==============================] - 6s 67ms/step - loss: 1.1739e-05 - accuracy: 1.0000 - val_loss: 0.1181 - val_accuracy: 0.9864\n",
            "Epoch 56/80\n",
            "93/93 [==============================] - 5s 55ms/step - loss: 0.0071 - accuracy: 0.9993 - val_loss: 0.0944 - val_accuracy: 0.9763\n",
            "Epoch 57/80\n",
            "93/93 [==============================] - 6s 60ms/step - loss: 0.0066 - accuracy: 0.9983 - val_loss: 0.0888 - val_accuracy: 0.9835\n",
            "Epoch 58/80\n",
            "93/93 [==============================] - 5s 54ms/step - loss: 0.0027 - accuracy: 0.9995 - val_loss: 0.0714 - val_accuracy: 0.9864\n",
            "Epoch 59/80\n",
            "93/93 [==============================] - 6s 62ms/step - loss: 0.0012 - accuracy: 0.9998 - val_loss: 0.0688 - val_accuracy: 0.9856\n",
            "Epoch 60/80\n",
            "93/93 [==============================] - 5s 53ms/step - loss: 2.3606e-04 - accuracy: 1.0000 - val_loss: 0.0716 - val_accuracy: 0.9878\n",
            "Epoch 61/80\n",
            "93/93 [==============================] - 6s 63ms/step - loss: 1.1621e-04 - accuracy: 1.0000 - val_loss: 0.0725 - val_accuracy: 0.9885\n",
            "Epoch 62/80\n",
            "93/93 [==============================] - 5s 54ms/step - loss: 8.9785e-05 - accuracy: 1.0000 - val_loss: 0.0739 - val_accuracy: 0.9878\n",
            "Epoch 63/80\n",
            "93/93 [==============================] - 6s 60ms/step - loss: 7.3379e-05 - accuracy: 1.0000 - val_loss: 0.0756 - val_accuracy: 0.9871\n",
            "Epoch 64/80\n",
            "93/93 [==============================] - 5s 54ms/step - loss: 6.2544e-05 - accuracy: 1.0000 - val_loss: 0.0768 - val_accuracy: 0.9871\n",
            "Epoch 65/80\n",
            "93/93 [==============================] - 5s 57ms/step - loss: 5.4531e-05 - accuracy: 1.0000 - val_loss: 0.0782 - val_accuracy: 0.9864\n",
            "Epoch 66/80\n",
            "93/93 [==============================] - 6s 69ms/step - loss: 4.8051e-05 - accuracy: 1.0000 - val_loss: 0.0792 - val_accuracy: 0.9864\n",
            "Epoch 67/80\n",
            "93/93 [==============================] - 7s 79ms/step - loss: 4.3090e-05 - accuracy: 1.0000 - val_loss: 0.0804 - val_accuracy: 0.9864\n",
            "Epoch 68/80\n",
            "93/93 [==============================] - 6s 65ms/step - loss: 3.8657e-05 - accuracy: 1.0000 - val_loss: 0.0814 - val_accuracy: 0.9864\n",
            "Epoch 69/80\n",
            "93/93 [==============================] - 7s 72ms/step - loss: 3.5110e-05 - accuracy: 1.0000 - val_loss: 0.0822 - val_accuracy: 0.9864\n",
            "Epoch 70/80\n",
            "93/93 [==============================] - 6s 62ms/step - loss: 3.1936e-05 - accuracy: 1.0000 - val_loss: 0.0833 - val_accuracy: 0.9864\n",
            "Epoch 71/80\n",
            "93/93 [==============================] - 6s 60ms/step - loss: 2.9252e-05 - accuracy: 1.0000 - val_loss: 0.0841 - val_accuracy: 0.9864\n",
            "Epoch 72/80\n",
            "93/93 [==============================] - 5s 55ms/step - loss: 2.6846e-05 - accuracy: 1.0000 - val_loss: 0.0850 - val_accuracy: 0.9864\n",
            "Epoch 73/80\n",
            "93/93 [==============================] - 6s 60ms/step - loss: 2.4723e-05 - accuracy: 1.0000 - val_loss: 0.0856 - val_accuracy: 0.9864\n",
            "Epoch 74/80\n",
            "93/93 [==============================] - 5s 57ms/step - loss: 2.2862e-05 - accuracy: 1.0000 - val_loss: 0.0864 - val_accuracy: 0.9864\n",
            "Epoch 75/80\n",
            "93/93 [==============================] - 6s 60ms/step - loss: 2.1209e-05 - accuracy: 1.0000 - val_loss: 0.0872 - val_accuracy: 0.9864\n",
            "Epoch 76/80\n",
            "93/93 [==============================] - 6s 69ms/step - loss: 1.9675e-05 - accuracy: 1.0000 - val_loss: 0.0879 - val_accuracy: 0.9864\n",
            "Epoch 77/80\n",
            "93/93 [==============================] - 7s 72ms/step - loss: 1.8323e-05 - accuracy: 1.0000 - val_loss: 0.0886 - val_accuracy: 0.9864\n",
            "Epoch 78/80\n",
            "93/93 [==============================] - 6s 63ms/step - loss: 1.7124e-05 - accuracy: 1.0000 - val_loss: 0.0892 - val_accuracy: 0.9864\n",
            "Epoch 79/80\n",
            "93/93 [==============================] - 7s 75ms/step - loss: 1.5963e-05 - accuracy: 1.0000 - val_loss: 0.0899 - val_accuracy: 0.9864\n",
            "Epoch 80/80\n",
            "93/93 [==============================] - 6s 61ms/step - loss: 1.4949e-05 - accuracy: 1.0000 - val_loss: 0.0905 - val_accuracy: 0.9864\n"
          ]
        },
        {
          "output_type": "execute_result",
          "data": {
            "text/plain": [
              "<keras.src.callbacks.History at 0x7b604b77b730>"
            ]
          },
          "metadata": {},
          "execution_count": 25
        }
      ]
    },
    {
      "cell_type": "markdown",
      "source": [
        "As you can see the model attained a high accuracy on testing data, 98.64% accuracy."
      ],
      "metadata": {
        "id": "BtDxW3iy9Dsh"
      }
    },
    {
      "cell_type": "code",
      "source": [
        "# visualise training history\n",
        "plt.plot(model.history.history['accuracy'])\n",
        "plt.plot(model.history.history['val_accuracy'])\n",
        "plt.title('model accuracy')\n",
        "plt.ylabel('accuracy')\n",
        "plt.xlabel('epoch')\n",
        "plt.ylim(0,1)\n",
        "plt.legend(['train', 'test'], loc=\"lower right\")\n",
        "plt.show()"
      ],
      "metadata": {
        "colab": {
          "base_uri": "https://localhost:8080/",
          "height": 472
        },
        "id": "Z0dt7yN47xym",
        "outputId": "2634c6a8-9b03-41a7-a0c6-39d384a76981"
      },
      "execution_count": 27,
      "outputs": [
        {
          "output_type": "display_data",
          "data": {
            "text/plain": [
              "<Figure size 640x480 with 1 Axes>"
            ],
            "image/png": "[encoded data removed]"
          },
          "metadata": {}
        }
      ]
    },
    {
      "cell_type": "markdown",
      "source": [
        "We then proceed to implement a GRU model, which is desinged for capturing long-term dependencies in sequence data like LSTM, but they do so with a simpler structural design. GRU does not have a separate cell state. It combines the cell state and the hidden state, simplifying the model and reducing the number of parameters."
      ],
      "metadata": {
        "id": "ETwRUEvi7vka"
      }
    },
    {
      "cell_type": "code",
      "source": [
        "model = Sequential()\n",
        "model.add(Embedding(input_dim=vocab_size, output_dim=64, input_length=length))\n",
        "model.add(GRU(32))\n",
        "model.add(Dense(1, activation='sigmoid'))\n",
        "# model summary\n",
        "model.summary()\n"
      ],
      "metadata": {
        "colab": {
          "base_uri": "https://localhost:8080/"
        },
        "id": "6x2ptu2U8hvX",
        "outputId": "9981db25-38d0-4ff6-9ddd-b7d5ccc489b1"
      },
      "execution_count": 32,
      "outputs": [
        {
          "output_type": "stream",
          "name": "stdout",
          "text": [
            "Model: \"sequential_4\"\n",
            "_________________________________________________________________\n",
            " Layer (type)                Output Shape              Param #   \n",
            "=================================================================\n",
            " embedding_3 (Embedding)     (None, 171, 64)           546624    \n",
            "                                                                 \n",
            " gru_1 (GRU)                 (None, 32)                9408      \n",
            "                                                                 \n",
            " dense_3 (Dense)             (None, 1)                 33        \n",
            "                                                                 \n",
            "=================================================================\n",
            "Total params: 556065 (2.12 MB)\n",
            "Trainable params: 556065 (2.12 MB)\n",
            "Non-trainable params: 0 (0.00 Byte)\n",
            "_________________________________________________________________\n"
          ]
        }
      ]
    },
    {
      "cell_type": "code",
      "source": [
        "model.compile(optimizer='adam', loss='binary_crossentropy', metrics=['accuracy'])"
      ],
      "metadata": {
        "id": "pflJGKPA8nJt"
      },
      "execution_count": 33,
      "outputs": []
    },
    {
      "cell_type": "code",
      "source": [
        "model.fit(X_train, y_train, epochs=80, validation_data=(X_test, y_test), batch_size=45)"
      ],
      "metadata": {
        "colab": {
          "base_uri": "https://localhost:8080/"
        },
        "id": "ggo0oc0X8q_b",
        "outputId": "bf8067b8-8bb9-4241-bb01-8264f8dc22c2"
      },
      "execution_count": 34,
      "outputs": [
        {
          "output_type": "stream",
          "name": "stdout",
          "text": [
            "Epoch 1/80\n",
            "93/93 [==============================] - 8s 64ms/step - loss: 0.3336 - accuracy: 0.8837 - val_loss: 0.0938 - val_accuracy: 0.9734\n",
            "Epoch 2/80\n",
            "93/93 [==============================] - 6s 64ms/step - loss: 0.0566 - accuracy: 0.9847 - val_loss: 0.0530 - val_accuracy: 0.9871\n",
            "Epoch 3/80\n",
            "93/93 [==============================] - 7s 77ms/step - loss: 0.0218 - accuracy: 0.9955 - val_loss: 0.0504 - val_accuracy: 0.9892\n",
            "Epoch 4/80\n",
            "93/93 [==============================] - 6s 60ms/step - loss: 0.0106 - accuracy: 0.9974 - val_loss: 0.0483 - val_accuracy: 0.9878\n",
            "Epoch 5/80\n",
            "93/93 [==============================] - 7s 73ms/step - loss: 0.0055 - accuracy: 0.9990 - val_loss: 0.0496 - val_accuracy: 0.9885\n",
            "Epoch 6/80\n",
            "93/93 [==============================] - 6s 69ms/step - loss: 0.0037 - accuracy: 0.9993 - val_loss: 0.0525 - val_accuracy: 0.9871\n",
            "Epoch 7/80\n",
            "93/93 [==============================] - 6s 61ms/step - loss: 0.0019 - accuracy: 0.9995 - val_loss: 0.0621 - val_accuracy: 0.9864\n",
            "Epoch 8/80\n",
            "93/93 [==============================] - 6s 64ms/step - loss: 0.0018 - accuracy: 0.9995 - val_loss: 0.0549 - val_accuracy: 0.9878\n",
            "Epoch 9/80\n",
            "93/93 [==============================] - 6s 65ms/step - loss: 8.4647e-04 - accuracy: 1.0000 - val_loss: 0.0593 - val_accuracy: 0.9871\n",
            "Epoch 10/80\n",
            "93/93 [==============================] - 5s 57ms/step - loss: 5.2243e-04 - accuracy: 1.0000 - val_loss: 0.0592 - val_accuracy: 0.9885\n",
            "Epoch 11/80\n",
            "93/93 [==============================] - 5s 50ms/step - loss: 3.6344e-04 - accuracy: 1.0000 - val_loss: 0.0637 - val_accuracy: 0.9871\n",
            "Epoch 12/80\n",
            "93/93 [==============================] - 6s 63ms/step - loss: 2.7759e-04 - accuracy: 1.0000 - val_loss: 0.0651 - val_accuracy: 0.9878\n",
            "Epoch 13/80\n",
            "93/93 [==============================] - 7s 71ms/step - loss: 2.2160e-04 - accuracy: 1.0000 - val_loss: 0.0668 - val_accuracy: 0.9878\n",
            "Epoch 14/80\n",
            "93/93 [==============================] - 7s 72ms/step - loss: 1.8278e-04 - accuracy: 1.0000 - val_loss: 0.0686 - val_accuracy: 0.9878\n",
            "Epoch 15/80\n",
            "93/93 [==============================] - 6s 64ms/step - loss: 1.5294e-04 - accuracy: 1.0000 - val_loss: 0.0692 - val_accuracy: 0.9885\n",
            "Epoch 16/80\n",
            "93/93 [==============================] - 5s 56ms/step - loss: 1.2965e-04 - accuracy: 1.0000 - val_loss: 0.0722 - val_accuracy: 0.9871\n",
            "Epoch 17/80\n",
            "93/93 [==============================] - 5s 50ms/step - loss: 1.1364e-04 - accuracy: 1.0000 - val_loss: 0.0742 - val_accuracy: 0.9864\n",
            "Epoch 18/80\n",
            "93/93 [==============================] - 5s 49ms/step - loss: 9.7958e-05 - accuracy: 1.0000 - val_loss: 0.0736 - val_accuracy: 0.9878\n",
            "Epoch 19/80\n",
            "93/93 [==============================] - 5s 57ms/step - loss: 8.6251e-05 - accuracy: 1.0000 - val_loss: 0.0760 - val_accuracy: 0.9871\n",
            "Epoch 20/80\n",
            "93/93 [==============================] - 5s 50ms/step - loss: 7.6887e-05 - accuracy: 1.0000 - val_loss: 0.0767 - val_accuracy: 0.9878\n",
            "Epoch 21/80\n",
            "93/93 [==============================] - 6s 60ms/step - loss: 6.8851e-05 - accuracy: 1.0000 - val_loss: 0.0780 - val_accuracy: 0.9878\n",
            "Epoch 22/80\n",
            "93/93 [==============================] - 5s 49ms/step - loss: 0.0288 - accuracy: 0.9919 - val_loss: 0.0751 - val_accuracy: 0.9792\n",
            "Epoch 23/80\n",
            "93/93 [==============================] - 5s 53ms/step - loss: 0.0023 - accuracy: 0.9990 - val_loss: 0.0769 - val_accuracy: 0.9828\n",
            "Epoch 24/80\n",
            "93/93 [==============================] - 5s 53ms/step - loss: 6.4545e-04 - accuracy: 1.0000 - val_loss: 0.0759 - val_accuracy: 0.9813\n",
            "Epoch 25/80\n",
            "93/93 [==============================] - 5s 51ms/step - loss: 4.1117e-04 - accuracy: 1.0000 - val_loss: 0.0766 - val_accuracy: 0.9821\n",
            "Epoch 26/80\n",
            "93/93 [==============================] - 7s 71ms/step - loss: 3.3084e-04 - accuracy: 1.0000 - val_loss: 0.0777 - val_accuracy: 0.9821\n",
            "Epoch 27/80\n",
            "93/93 [==============================] - 7s 76ms/step - loss: 2.7559e-04 - accuracy: 1.0000 - val_loss: 0.0786 - val_accuracy: 0.9821\n",
            "Epoch 28/80\n",
            "93/93 [==============================] - 6s 59ms/step - loss: 2.3654e-04 - accuracy: 1.0000 - val_loss: 0.0794 - val_accuracy: 0.9806\n",
            "Epoch 29/80\n",
            "93/93 [==============================] - 6s 60ms/step - loss: 2.0537e-04 - accuracy: 1.0000 - val_loss: 0.0805 - val_accuracy: 0.9806\n",
            "Epoch 30/80\n",
            "93/93 [==============================] - 5s 53ms/step - loss: 1.8111e-04 - accuracy: 1.0000 - val_loss: 0.0815 - val_accuracy: 0.9806\n",
            "Epoch 31/80\n",
            "93/93 [==============================] - 5s 49ms/step - loss: 1.6092e-04 - accuracy: 1.0000 - val_loss: 0.0825 - val_accuracy: 0.9806\n",
            "Epoch 32/80\n",
            "93/93 [==============================] - 5s 59ms/step - loss: 1.4463e-04 - accuracy: 1.0000 - val_loss: 0.0835 - val_accuracy: 0.9806\n",
            "Epoch 33/80\n",
            "93/93 [==============================] - 5s 49ms/step - loss: 1.3086e-04 - accuracy: 1.0000 - val_loss: 0.0844 - val_accuracy: 0.9799\n",
            "Epoch 34/80\n",
            "93/93 [==============================] - 6s 64ms/step - loss: 1.1764e-04 - accuracy: 1.0000 - val_loss: 0.0854 - val_accuracy: 0.9799\n",
            "Epoch 35/80\n",
            "93/93 [==============================] - 5s 49ms/step - loss: 1.0736e-04 - accuracy: 1.0000 - val_loss: 0.0863 - val_accuracy: 0.9799\n",
            "Epoch 36/80\n",
            "93/93 [==============================] - 5s 55ms/step - loss: 9.8114e-05 - accuracy: 1.0000 - val_loss: 0.0873 - val_accuracy: 0.9806\n",
            "Epoch 37/80\n",
            "93/93 [==============================] - 5s 50ms/step - loss: 9.0075e-05 - accuracy: 1.0000 - val_loss: 0.0881 - val_accuracy: 0.9806\n",
            "Epoch 38/80\n",
            "93/93 [==============================] - 5s 50ms/step - loss: 8.2815e-05 - accuracy: 1.0000 - val_loss: 0.0891 - val_accuracy: 0.9813\n",
            "Epoch 39/80\n",
            "93/93 [==============================] - 5s 55ms/step - loss: 7.6496e-05 - accuracy: 1.0000 - val_loss: 0.0899 - val_accuracy: 0.9813\n",
            "Epoch 40/80\n",
            "93/93 [==============================] - 5s 50ms/step - loss: 7.0714e-05 - accuracy: 1.0000 - val_loss: 0.0908 - val_accuracy: 0.9813\n",
            "Epoch 41/80\n",
            "93/93 [==============================] - 5s 55ms/step - loss: 6.5608e-05 - accuracy: 1.0000 - val_loss: 0.0918 - val_accuracy: 0.9813\n",
            "Epoch 42/80\n",
            "93/93 [==============================] - 5s 50ms/step - loss: 6.0904e-05 - accuracy: 1.0000 - val_loss: 0.0926 - val_accuracy: 0.9813\n",
            "Epoch 43/80\n",
            "93/93 [==============================] - 5s 59ms/step - loss: 5.6719e-05 - accuracy: 1.0000 - val_loss: 0.0935 - val_accuracy: 0.9813\n",
            "Epoch 44/80\n",
            "93/93 [==============================] - 5s 54ms/step - loss: 5.2839e-05 - accuracy: 1.0000 - val_loss: 0.0943 - val_accuracy: 0.9813\n",
            "Epoch 45/80\n",
            "93/93 [==============================] - 5s 55ms/step - loss: 4.9336e-05 - accuracy: 1.0000 - val_loss: 0.0952 - val_accuracy: 0.9813\n",
            "Epoch 46/80\n",
            "93/93 [==============================] - 5s 51ms/step - loss: 4.6074e-05 - accuracy: 1.0000 - val_loss: 0.0960 - val_accuracy: 0.9813\n",
            "Epoch 47/80\n",
            "93/93 [==============================] - 5s 51ms/step - loss: 4.3121e-05 - accuracy: 1.0000 - val_loss: 0.0969 - val_accuracy: 0.9813\n",
            "Epoch 48/80\n",
            "93/93 [==============================] - 5s 56ms/step - loss: 4.0428e-05 - accuracy: 1.0000 - val_loss: 0.0978 - val_accuracy: 0.9813\n",
            "Epoch 49/80\n",
            "93/93 [==============================] - 5s 55ms/step - loss: 3.7876e-05 - accuracy: 1.0000 - val_loss: 0.0985 - val_accuracy: 0.9813\n",
            "Epoch 50/80\n",
            "93/93 [==============================] - 5s 56ms/step - loss: 3.5534e-05 - accuracy: 1.0000 - val_loss: 0.0994 - val_accuracy: 0.9813\n",
            "Epoch 51/80\n",
            "93/93 [==============================] - 5s 51ms/step - loss: 3.3384e-05 - accuracy: 1.0000 - val_loss: 0.1002 - val_accuracy: 0.9813\n",
            "Epoch 52/80\n",
            "93/93 [==============================] - 5s 55ms/step - loss: 3.1390e-05 - accuracy: 1.0000 - val_loss: 0.1009 - val_accuracy: 0.9813\n",
            "Epoch 53/80\n",
            "93/93 [==============================] - 5s 54ms/step - loss: 2.9566e-05 - accuracy: 1.0000 - val_loss: 0.1017 - val_accuracy: 0.9813\n",
            "Epoch 54/80\n",
            "93/93 [==============================] - 5s 56ms/step - loss: 2.7820e-05 - accuracy: 1.0000 - val_loss: 0.1026 - val_accuracy: 0.9813\n",
            "Epoch 55/80\n",
            "93/93 [==============================] - 5s 51ms/step - loss: 2.6210e-05 - accuracy: 1.0000 - val_loss: 0.1034 - val_accuracy: 0.9821\n",
            "Epoch 56/80\n",
            "93/93 [==============================] - 5s 54ms/step - loss: 2.4707e-05 - accuracy: 1.0000 - val_loss: 0.1042 - val_accuracy: 0.9821\n",
            "Epoch 57/80\n",
            "93/93 [==============================] - 5s 57ms/step - loss: 2.3318e-05 - accuracy: 1.0000 - val_loss: 0.1049 - val_accuracy: 0.9821\n",
            "Epoch 58/80\n",
            "93/93 [==============================] - 5s 50ms/step - loss: 2.2010e-05 - accuracy: 1.0000 - val_loss: 0.1057 - val_accuracy: 0.9821\n",
            "Epoch 59/80\n",
            "93/93 [==============================] - 5s 55ms/step - loss: 2.0785e-05 - accuracy: 1.0000 - val_loss: 0.1065 - val_accuracy: 0.9821\n",
            "Epoch 60/80\n",
            "93/93 [==============================] - 5s 51ms/step - loss: 1.9645e-05 - accuracy: 1.0000 - val_loss: 0.1072 - val_accuracy: 0.9828\n",
            "Epoch 61/80\n",
            "93/93 [==============================] - 5s 55ms/step - loss: 1.8565e-05 - accuracy: 1.0000 - val_loss: 0.1080 - val_accuracy: 0.9828\n",
            "Epoch 62/80\n",
            "93/93 [==============================] - 5s 51ms/step - loss: 1.7576e-05 - accuracy: 1.0000 - val_loss: 0.1089 - val_accuracy: 0.9828\n",
            "Epoch 63/80\n",
            "93/93 [==============================] - 6s 59ms/step - loss: 1.6624e-05 - accuracy: 1.0000 - val_loss: 0.1096 - val_accuracy: 0.9828\n",
            "Epoch 64/80\n",
            "93/93 [==============================] - 5s 51ms/step - loss: 1.5721e-05 - accuracy: 1.0000 - val_loss: 0.1105 - val_accuracy: 0.9821\n",
            "Epoch 65/80\n",
            "93/93 [==============================] - 5s 56ms/step - loss: 1.4895e-05 - accuracy: 1.0000 - val_loss: 0.1112 - val_accuracy: 0.9821\n",
            "Epoch 66/80\n",
            "93/93 [==============================] - 5s 51ms/step - loss: 1.4099e-05 - accuracy: 1.0000 - val_loss: 0.1120 - val_accuracy: 0.9821\n",
            "Epoch 67/80\n",
            "93/93 [==============================] - 5s 51ms/step - loss: 1.3365e-05 - accuracy: 1.0000 - val_loss: 0.1128 - val_accuracy: 0.9821\n",
            "Epoch 68/80\n",
            "93/93 [==============================] - 5s 56ms/step - loss: 1.2662e-05 - accuracy: 1.0000 - val_loss: 0.1137 - val_accuracy: 0.9821\n",
            "Epoch 69/80\n",
            "93/93 [==============================] - 5s 51ms/step - loss: 1.2003e-05 - accuracy: 1.0000 - val_loss: 0.1144 - val_accuracy: 0.9821\n",
            "Epoch 70/80\n",
            "93/93 [==============================] - 5s 56ms/step - loss: 1.1385e-05 - accuracy: 1.0000 - val_loss: 0.1152 - val_accuracy: 0.9821\n",
            "Epoch 71/80\n",
            "93/93 [==============================] - 5s 51ms/step - loss: 1.0792e-05 - accuracy: 1.0000 - val_loss: 0.1161 - val_accuracy: 0.9828\n",
            "Epoch 72/80\n",
            "93/93 [==============================] - 5s 55ms/step - loss: 1.0245e-05 - accuracy: 1.0000 - val_loss: 0.1169 - val_accuracy: 0.9828\n",
            "Epoch 73/80\n",
            "93/93 [==============================] - 5s 51ms/step - loss: 9.7241e-06 - accuracy: 1.0000 - val_loss: 0.1179 - val_accuracy: 0.9828\n",
            "Epoch 74/80\n",
            "93/93 [==============================] - 5s 56ms/step - loss: 9.2283e-06 - accuracy: 1.0000 - val_loss: 0.1187 - val_accuracy: 0.9828\n",
            "Epoch 75/80\n",
            "93/93 [==============================] - 5s 51ms/step - loss: 8.7541e-06 - accuracy: 1.0000 - val_loss: 0.1195 - val_accuracy: 0.9828\n",
            "Epoch 76/80\n",
            "93/93 [==============================] - 5s 54ms/step - loss: 8.3106e-06 - accuracy: 1.0000 - val_loss: 0.1203 - val_accuracy: 0.9828\n",
            "Epoch 77/80\n",
            "93/93 [==============================] - 5s 54ms/step - loss: 7.8899e-06 - accuracy: 1.0000 - val_loss: 0.1211 - val_accuracy: 0.9835\n",
            "Epoch 78/80\n",
            "93/93 [==============================] - 5s 50ms/step - loss: 7.5028e-06 - accuracy: 1.0000 - val_loss: 0.1221 - val_accuracy: 0.9835\n",
            "Epoch 79/80\n",
            "93/93 [==============================] - 5s 59ms/step - loss: 7.1236e-06 - accuracy: 1.0000 - val_loss: 0.1229 - val_accuracy: 0.9835\n",
            "Epoch 80/80\n",
            "93/93 [==============================] - 5s 54ms/step - loss: 6.7648e-06 - accuracy: 1.0000 - val_loss: 0.1237 - val_accuracy: 0.9835\n"
          ]
        },
        {
          "output_type": "execute_result",
          "data": {
            "text/plain": [
              "<keras.src.callbacks.History at 0x7b60484f81f0>"
            ]
          },
          "metadata": {},
          "execution_count": 34
        }
      ]
    },
    {
      "cell_type": "markdown",
      "source": [
        "The LSTM arhitecture performed slightly better than the GRU by 0.0029."
      ],
      "metadata": {
        "id": "BaTZnSHaAEzb"
      }
    },
    {
      "cell_type": "code",
      "source": [
        "# visualise training history\n",
        "plt.plot(model.history.history['accuracy'])\n",
        "plt.plot(model.history.history['val_accuracy'])\n",
        "plt.title('model accuracy')\n",
        "plt.ylabel('accuracy')\n",
        "plt.xlabel('epoch')\n",
        "plt.legend(['train', 'test'], loc=\"lower right\")\n",
        "plt.show()"
      ],
      "metadata": {
        "colab": {
          "base_uri": "https://localhost:8080/",
          "height": 472
        },
        "id": "cjbc_rwP8tc6",
        "outputId": "0a82f4c8-67f6-4afe-a5c7-5069b764ee4e"
      },
      "execution_count": 35,
      "outputs": [
        {
          "output_type": "display_data",
          "data": {
            "text/plain": [
              "<Figure size 640x480 with 1 Axes>"
            ],
            "image/png": "[encoded data removed]"
          },
          "metadata": {}
        }
      ]
    },
    {
      "cell_type": "markdown",
      "source": [
        "Trying to improve it father by creating a model using pre-trained embeddings, which can lead to better performance as it is trained on large text using Google News, where embedding size is 300."
      ],
      "metadata": {
        "id": "qCq1aTbq9S1L"
      }
    },
    {
      "cell_type": "markdown",
      "source": [
        "### Because of the large size the file is uploaded to google drive.\n",
        "\n",
        "```\n",
        "# This is formatted as code\n",
        "```\n",
        "\n"
      ],
      "metadata": {
        "id": "fn1S-NQ8-TPx"
      }
    },
    {
      "cell_type": "code",
      "source": [
        "from google.colab import drive\n",
        "import os\n",
        "from gensim.models import KeyedVectors\n",
        "\n",
        "drive.mount('/content/drive')\n",
        "\n",
        "folder_path = '/content/drive/MyDrive/Embeddings'\n",
        "filename = 'GoogleNews-vectors-negative300.bin'\n",
        "\n",
        "\n",
        "path = os.path.join(folder_path, filename)\n",
        "\n",
        "word2vec = KeyedVectors.load_word2vec_format(path, binary=True)"
      ],
      "metadata": {
        "colab": {
          "base_uri": "https://localhost:8080/"
        },
        "id": "FnAZxlCx-fQz",
        "outputId": "7cf57c60-5e51-4409-dd7c-79cabaeb1f88"
      },
      "execution_count": 37,
      "outputs": [
        {
          "output_type": "stream",
          "name": "stdout",
          "text": [
            "Mounted at /content/drive\n"
          ]
        }
      ]
    },
    {
      "cell_type": "code",
      "source": [
        "embedding_size = 300\n",
        "embeddings = np.zeros((vocab_size, embedding_size))\n",
        "\n",
        "#one row corresponds to the embeddings of one word in the vocabulary\n",
        "for i, j in vocab_word_to_index.items():\n",
        "  if i in word2vec:\n",
        "    embeddings[j] = word2vec[i]\n",
        "\n",
        "print(embeddings.shape)"
      ],
      "metadata": {
        "colab": {
          "base_uri": "https://localhost:8080/"
        },
        "id": "2KzMvYsp-mpH",
        "outputId": "848bd7fd-4b01-4d80-f7d9-05ae10fb7a42"
      },
      "execution_count": 38,
      "outputs": [
        {
          "output_type": "stream",
          "name": "stdout",
          "text": [
            "(8541, 300)\n"
          ]
        }
      ]
    },
    {
      "cell_type": "code",
      "source": [
        "model = Sequential()\n",
        "model.add(Embedding(input_dim=vocab_size, output_dim=embedding_size, weights=[embeddings], input_length=length, trainable=False))\n",
        "model.add(LSTM(32))\n",
        "model.add(Dense(1, activation='sigmoid'))\n",
        "model.summary()"
      ],
      "metadata": {
        "colab": {
          "base_uri": "https://localhost:8080/"
        },
        "id": "H0U2uf-m_an9",
        "outputId": "7cb6162a-7571-4fc5-be9e-14d80c48fc1a"
      },
      "execution_count": 40,
      "outputs": [
        {
          "output_type": "stream",
          "name": "stdout",
          "text": [
            "Model: \"sequential_6\"\n",
            "_________________________________________________________________\n",
            " Layer (type)                Output Shape              Param #   \n",
            "=================================================================\n",
            " embedding_4 (Embedding)     (None, 171, 300)          2562300   \n",
            "                                                                 \n",
            " lstm_2 (LSTM)               (None, 32)                42624     \n",
            "                                                                 \n",
            " dense_4 (Dense)             (None, 1)                 33        \n",
            "                                                                 \n",
            "=================================================================\n",
            "Total params: 2604957 (9.94 MB)\n",
            "Trainable params: 42657 (166.63 KB)\n",
            "Non-trainable params: 2562300 (9.77 MB)\n",
            "_________________________________________________________________\n"
          ]
        }
      ]
    },
    {
      "cell_type": "code",
      "source": [
        "model.compile(optimizer='adam', loss='binary_crossentropy', metrics=['accuracy'])"
      ],
      "metadata": {
        "id": "3nSa9lEV_fan"
      },
      "execution_count": 41,
      "outputs": []
    },
    {
      "cell_type": "code",
      "source": [
        "model.fit(X_train, y_train, epochs=80, validation_data=(X_test, y_test), batch_size = 45)"
      ],
      "metadata": {
        "colab": {
          "base_uri": "https://localhost:8080/"
        },
        "id": "4oq8FWeV_hjY",
        "outputId": "22836c50-7c67-4fac-f254-2071e5b1cf63"
      },
      "execution_count": 42,
      "outputs": [
        {
          "output_type": "stream",
          "name": "stdout",
          "text": [
            "Epoch 1/80\n",
            "93/93 [==============================] - 10s 94ms/step - loss: 0.2482 - accuracy: 0.9038 - val_loss: 0.1054 - val_accuracy: 0.9634\n",
            "Epoch 2/80\n",
            "93/93 [==============================] - 8s 83ms/step - loss: 0.0870 - accuracy: 0.9710 - val_loss: 0.0860 - val_accuracy: 0.9727\n",
            "Epoch 3/80\n",
            "93/93 [==============================] - 8s 90ms/step - loss: 0.0690 - accuracy: 0.9792 - val_loss: 0.0731 - val_accuracy: 0.9734\n",
            "Epoch 4/80\n",
            "93/93 [==============================] - 8s 90ms/step - loss: 0.0569 - accuracy: 0.9818 - val_loss: 0.0648 - val_accuracy: 0.9792\n",
            "Epoch 5/80\n",
            "93/93 [==============================] - 8s 88ms/step - loss: 0.0409 - accuracy: 0.9890 - val_loss: 0.0654 - val_accuracy: 0.9785\n",
            "Epoch 6/80\n",
            "93/93 [==============================] - 8s 90ms/step - loss: 0.0357 - accuracy: 0.9904 - val_loss: 0.0635 - val_accuracy: 0.9777\n",
            "Epoch 7/80\n",
            "93/93 [==============================] - 8s 91ms/step - loss: 0.0415 - accuracy: 0.9876 - val_loss: 0.0640 - val_accuracy: 0.9813\n",
            "Epoch 8/80\n",
            "93/93 [==============================] - 8s 84ms/step - loss: 0.0288 - accuracy: 0.9916 - val_loss: 0.0550 - val_accuracy: 0.9842\n",
            "Epoch 9/80\n",
            "93/93 [==============================] - 9s 96ms/step - loss: 0.0208 - accuracy: 0.9940 - val_loss: 0.0616 - val_accuracy: 0.9842\n",
            "Epoch 10/80\n",
            "93/93 [==============================] - 8s 91ms/step - loss: 0.0190 - accuracy: 0.9947 - val_loss: 0.0648 - val_accuracy: 0.9806\n",
            "Epoch 11/80\n",
            "93/93 [==============================] - 8s 87ms/step - loss: 0.0201 - accuracy: 0.9943 - val_loss: 0.0638 - val_accuracy: 0.9835\n",
            "Epoch 12/80\n",
            "93/93 [==============================] - 8s 89ms/step - loss: 0.0133 - accuracy: 0.9964 - val_loss: 0.0681 - val_accuracy: 0.9813\n",
            "Epoch 13/80\n",
            "93/93 [==============================] - 9s 96ms/step - loss: 0.0177 - accuracy: 0.9938 - val_loss: 0.0569 - val_accuracy: 0.9842\n",
            "Epoch 14/80\n",
            "93/93 [==============================] - 7s 79ms/step - loss: 0.0191 - accuracy: 0.9945 - val_loss: 0.0638 - val_accuracy: 0.9813\n",
            "Epoch 15/80\n",
            "93/93 [==============================] - 9s 96ms/step - loss: 0.0081 - accuracy: 0.9976 - val_loss: 0.0763 - val_accuracy: 0.9813\n",
            "Epoch 16/80\n",
            "93/93 [==============================] - 8s 91ms/step - loss: 0.0069 - accuracy: 0.9983 - val_loss: 0.0832 - val_accuracy: 0.9806\n",
            "Epoch 17/80\n",
            "93/93 [==============================] - 8s 82ms/step - loss: 0.0063 - accuracy: 0.9983 - val_loss: 0.0765 - val_accuracy: 0.9813\n",
            "Epoch 18/80\n",
            "93/93 [==============================] - 8s 90ms/step - loss: 0.0041 - accuracy: 0.9993 - val_loss: 0.0865 - val_accuracy: 0.9785\n",
            "Epoch 19/80\n",
            "93/93 [==============================] - 9s 95ms/step - loss: 0.0034 - accuracy: 0.9993 - val_loss: 0.0919 - val_accuracy: 0.9799\n",
            "Epoch 20/80\n",
            "93/93 [==============================] - 8s 83ms/step - loss: 0.0030 - accuracy: 0.9993 - val_loss: 0.1014 - val_accuracy: 0.9792\n",
            "Epoch 21/80\n",
            "93/93 [==============================] - 9s 96ms/step - loss: 0.0027 - accuracy: 0.9993 - val_loss: 0.1053 - val_accuracy: 0.9792\n",
            "Epoch 22/80\n",
            "93/93 [==============================] - 8s 90ms/step - loss: 0.0025 - accuracy: 0.9993 - val_loss: 0.1116 - val_accuracy: 0.9792\n",
            "Epoch 23/80\n",
            "93/93 [==============================] - 7s 78ms/step - loss: 0.0024 - accuracy: 0.9993 - val_loss: 0.1070 - val_accuracy: 0.9792\n",
            "Epoch 24/80\n",
            "93/93 [==============================] - 8s 90ms/step - loss: 0.0023 - accuracy: 0.9993 - val_loss: 0.1156 - val_accuracy: 0.9777\n",
            "Epoch 25/80\n",
            "93/93 [==============================] - 8s 91ms/step - loss: 0.0022 - accuracy: 0.9993 - val_loss: 0.1173 - val_accuracy: 0.9770\n",
            "Epoch 26/80\n",
            "93/93 [==============================] - 8s 83ms/step - loss: 0.0020 - accuracy: 0.9993 - val_loss: 0.1241 - val_accuracy: 0.9792\n",
            "Epoch 27/80\n",
            "93/93 [==============================] - 9s 95ms/step - loss: 0.0020 - accuracy: 0.9993 - val_loss: 0.1283 - val_accuracy: 0.9777\n",
            "Epoch 28/80\n",
            "93/93 [==============================] - 8s 91ms/step - loss: 0.0019 - accuracy: 0.9993 - val_loss: 0.1310 - val_accuracy: 0.9756\n",
            "Epoch 29/80\n",
            "93/93 [==============================] - 8s 83ms/step - loss: 0.0018 - accuracy: 0.9993 - val_loss: 0.1355 - val_accuracy: 0.9756\n",
            "Epoch 30/80\n",
            "93/93 [==============================] - 8s 87ms/step - loss: 0.0018 - accuracy: 0.9993 - val_loss: 0.1379 - val_accuracy: 0.9756\n",
            "Epoch 31/80\n",
            "93/93 [==============================] - 8s 86ms/step - loss: 0.0017 - accuracy: 0.9993 - val_loss: 0.1409 - val_accuracy: 0.9763\n",
            "Epoch 32/80\n",
            "93/93 [==============================] - 8s 82ms/step - loss: 0.0017 - accuracy: 0.9995 - val_loss: 0.1438 - val_accuracy: 0.9763\n",
            "Epoch 33/80\n",
            "93/93 [==============================] - 8s 87ms/step - loss: 0.0016 - accuracy: 0.9995 - val_loss: 0.1476 - val_accuracy: 0.9763\n",
            "Epoch 34/80\n",
            "93/93 [==============================] - 8s 87ms/step - loss: 0.0016 - accuracy: 0.9995 - val_loss: 0.1489 - val_accuracy: 0.9749\n",
            "Epoch 35/80\n",
            "93/93 [==============================] - 7s 78ms/step - loss: 0.0016 - accuracy: 0.9995 - val_loss: 0.1527 - val_accuracy: 0.9756\n",
            "Epoch 36/80\n",
            "93/93 [==============================] - 9s 93ms/step - loss: 0.0015 - accuracy: 0.9995 - val_loss: 0.1569 - val_accuracy: 0.9770\n",
            "Epoch 37/80\n",
            "93/93 [==============================] - 8s 87ms/step - loss: 0.0491 - accuracy: 0.9864 - val_loss: 0.0964 - val_accuracy: 0.9677\n",
            "Epoch 38/80\n",
            "93/93 [==============================] - 7s 78ms/step - loss: 0.0195 - accuracy: 0.9952 - val_loss: 0.0940 - val_accuracy: 0.9785\n",
            "Epoch 39/80\n",
            "93/93 [==============================] - 9s 93ms/step - loss: 0.0082 - accuracy: 0.9978 - val_loss: 0.0999 - val_accuracy: 0.9828\n",
            "Epoch 40/80\n",
            "93/93 [==============================] - 8s 87ms/step - loss: 0.0045 - accuracy: 0.9986 - val_loss: 0.0995 - val_accuracy: 0.9821\n",
            "Epoch 41/80\n",
            "93/93 [==============================] - 8s 83ms/step - loss: 0.0030 - accuracy: 0.9995 - val_loss: 0.1204 - val_accuracy: 0.9763\n",
            "Epoch 42/80\n",
            "93/93 [==============================] - 8s 88ms/step - loss: 0.0023 - accuracy: 0.9995 - val_loss: 0.1223 - val_accuracy: 0.9799\n",
            "Epoch 43/80\n",
            "93/93 [==============================] - 8s 89ms/step - loss: 0.0020 - accuracy: 0.9995 - val_loss: 0.1281 - val_accuracy: 0.9792\n",
            "Epoch 44/80\n",
            "93/93 [==============================] - 7s 79ms/step - loss: 0.0018 - accuracy: 0.9995 - val_loss: 0.1304 - val_accuracy: 0.9799\n",
            "Epoch 45/80\n",
            "93/93 [==============================] - 9s 93ms/step - loss: 0.0017 - accuracy: 0.9995 - val_loss: 0.1372 - val_accuracy: 0.9777\n",
            "Epoch 46/80\n",
            "93/93 [==============================] - 8s 87ms/step - loss: 0.0017 - accuracy: 0.9995 - val_loss: 0.1393 - val_accuracy: 0.9785\n",
            "Epoch 47/80\n",
            "93/93 [==============================] - 7s 78ms/step - loss: 0.0016 - accuracy: 0.9995 - val_loss: 0.1470 - val_accuracy: 0.9763\n",
            "Epoch 48/80\n",
            "93/93 [==============================] - 9s 95ms/step - loss: 0.0016 - accuracy: 0.9995 - val_loss: 0.1484 - val_accuracy: 0.9763\n",
            "Epoch 49/80\n",
            "93/93 [==============================] - 9s 92ms/step - loss: 0.0015 - accuracy: 0.9995 - val_loss: 0.1524 - val_accuracy: 0.9770\n",
            "Epoch 50/80\n",
            "93/93 [==============================] - 8s 83ms/step - loss: 0.0015 - accuracy: 0.9995 - val_loss: 0.1532 - val_accuracy: 0.9763\n",
            "Epoch 51/80\n",
            "93/93 [==============================] - 9s 93ms/step - loss: 0.0015 - accuracy: 0.9995 - val_loss: 0.1563 - val_accuracy: 0.9770\n",
            "Epoch 52/80\n",
            "93/93 [==============================] - 9s 93ms/step - loss: 0.0015 - accuracy: 0.9995 - val_loss: 0.1595 - val_accuracy: 0.9770\n",
            "Epoch 53/80\n",
            "93/93 [==============================] - 8s 84ms/step - loss: 0.0014 - accuracy: 0.9995 - val_loss: 0.1637 - val_accuracy: 0.9763\n",
            "Epoch 54/80\n",
            "93/93 [==============================] - 10s 108ms/step - loss: 0.0014 - accuracy: 0.9995 - val_loss: 0.1655 - val_accuracy: 0.9770\n",
            "Epoch 55/80\n",
            "93/93 [==============================] - 10s 109ms/step - loss: 0.0015 - accuracy: 0.9995 - val_loss: 0.1637 - val_accuracy: 0.9785\n",
            "Epoch 56/80\n",
            "93/93 [==============================] - 9s 92ms/step - loss: 0.0015 - accuracy: 0.9995 - val_loss: 0.1680 - val_accuracy: 0.9756\n",
            "Epoch 57/80\n",
            "93/93 [==============================] - 8s 83ms/step - loss: 0.0014 - accuracy: 0.9995 - val_loss: 0.1714 - val_accuracy: 0.9763\n",
            "Epoch 58/80\n",
            "93/93 [==============================] - 8s 89ms/step - loss: 0.0015 - accuracy: 0.9995 - val_loss: 0.1723 - val_accuracy: 0.9770\n",
            "Epoch 59/80\n",
            "93/93 [==============================] - 9s 93ms/step - loss: 0.0014 - accuracy: 0.9995 - val_loss: 0.1758 - val_accuracy: 0.9756\n",
            "Epoch 60/80\n",
            "93/93 [==============================] - 7s 78ms/step - loss: 0.0014 - accuracy: 0.9995 - val_loss: 0.1778 - val_accuracy: 0.9770\n",
            "Epoch 61/80\n",
            "93/93 [==============================] - 8s 87ms/step - loss: 0.0014 - accuracy: 0.9995 - val_loss: 0.1779 - val_accuracy: 0.9770\n",
            "Epoch 62/80\n",
            "93/93 [==============================] - 8s 88ms/step - loss: 0.0014 - accuracy: 0.9995 - val_loss: 0.1822 - val_accuracy: 0.9749\n",
            "Epoch 63/80\n",
            "93/93 [==============================] - 7s 78ms/step - loss: 0.0014 - accuracy: 0.9995 - val_loss: 0.1838 - val_accuracy: 0.9756\n",
            "Epoch 64/80\n",
            "93/93 [==============================] - 9s 93ms/step - loss: 0.0014 - accuracy: 0.9995 - val_loss: 0.1860 - val_accuracy: 0.9777\n",
            "Epoch 65/80\n",
            "93/93 [==============================] - 8s 88ms/step - loss: 0.0014 - accuracy: 0.9995 - val_loss: 0.1919 - val_accuracy: 0.9734\n",
            "Epoch 66/80\n",
            "93/93 [==============================] - 8s 84ms/step - loss: 0.0014 - accuracy: 0.9995 - val_loss: 0.1899 - val_accuracy: 0.9749\n",
            "Epoch 67/80\n",
            "93/93 [==============================] - 8s 87ms/step - loss: 0.0014 - accuracy: 0.9995 - val_loss: 0.1910 - val_accuracy: 0.9756\n",
            "Epoch 68/80\n",
            "93/93 [==============================] - 8s 87ms/step - loss: 0.0014 - accuracy: 0.9995 - val_loss: 0.1891 - val_accuracy: 0.9770\n",
            "Epoch 69/80\n",
            "93/93 [==============================] - 8s 83ms/step - loss: 0.0014 - accuracy: 0.9995 - val_loss: 0.1911 - val_accuracy: 0.9785\n",
            "Epoch 70/80\n",
            "93/93 [==============================] - 9s 93ms/step - loss: 0.0014 - accuracy: 0.9995 - val_loss: 0.1951 - val_accuracy: 0.9777\n",
            "Epoch 71/80\n",
            "93/93 [==============================] - 9s 93ms/step - loss: 0.0014 - accuracy: 0.9995 - val_loss: 0.1962 - val_accuracy: 0.9777\n",
            "Epoch 72/80\n",
            "93/93 [==============================] - 8s 83ms/step - loss: 0.0090 - accuracy: 0.9978 - val_loss: 0.1600 - val_accuracy: 0.9713\n",
            "Epoch 73/80\n",
            "93/93 [==============================] - 8s 88ms/step - loss: 0.0297 - accuracy: 0.9909 - val_loss: 0.0949 - val_accuracy: 0.9799\n",
            "Epoch 74/80\n",
            "93/93 [==============================] - 8s 87ms/step - loss: 0.0077 - accuracy: 0.9976 - val_loss: 0.0981 - val_accuracy: 0.9785\n",
            "Epoch 75/80\n",
            "93/93 [==============================] - 8s 83ms/step - loss: 0.0032 - accuracy: 0.9990 - val_loss: 0.1053 - val_accuracy: 0.9806\n",
            "Epoch 76/80\n",
            "93/93 [==============================] - 9s 93ms/step - loss: 0.0020 - accuracy: 0.9995 - val_loss: 0.1154 - val_accuracy: 0.9806\n",
            "Epoch 77/80\n",
            "93/93 [==============================] - 9s 92ms/step - loss: 0.0017 - accuracy: 0.9995 - val_loss: 0.1226 - val_accuracy: 0.9799\n",
            "Epoch 78/80\n",
            "93/93 [==============================] - 8s 83ms/step - loss: 0.0016 - accuracy: 0.9995 - val_loss: 0.1268 - val_accuracy: 0.9799\n",
            "Epoch 79/80\n",
            "93/93 [==============================] - 8s 81ms/step - loss: 0.0016 - accuracy: 0.9995 - val_loss: 0.1301 - val_accuracy: 0.9806\n",
            "Epoch 80/80\n",
            "93/93 [==============================] - 9s 94ms/step - loss: 0.0015 - accuracy: 0.9995 - val_loss: 0.1341 - val_accuracy: 0.9806\n"
          ]
        },
        {
          "output_type": "execute_result",
          "data": {
            "text/plain": [
              "<keras.src.callbacks.History at 0x7b6040ec8580>"
            ]
          },
          "metadata": {},
          "execution_count": 42
        }
      ]
    },
    {
      "cell_type": "code",
      "source": [
        "# visualise training history\n",
        "plt.plot(model.history.history['accuracy'])\n",
        "plt.plot(model.history.history['val_accuracy'])\n",
        "plt.title('model accuracy')\n",
        "plt.ylabel('accuracy')\n",
        "plt.xlabel('epoch')\n",
        "plt.legend(['train', 'test'], loc=\"lower right\")\n",
        "plt.show()"
      ],
      "metadata": {
        "colab": {
          "base_uri": "https://localhost:8080/",
          "height": 472
        },
        "id": "pSf8vSsS_mPP",
        "outputId": "82d401f3-2300-4d79-dc91-77a532eb3c1e"
      },
      "execution_count": 43,
      "outputs": [
        {
          "output_type": "display_data",
          "data": {
            "text/plain": [
              "<Figure size 640x480 with 1 Axes>"
            ],
            "image/png": "[encoded data removed]"
          },
          "metadata": {}
        }
      ]
    },
    {
      "cell_type": "markdown",
      "source": [
        "# Lets try a multi classification problem and build our POS tagger"
      ],
      "metadata": {
        "id": "KDOwg7nIMJpP"
      }
    },
    {
      "cell_type": "markdown",
      "source": [
        "The POS tagger helps us understand the syntatic structure of the sentence. We build a statistical model to learn a POS tagger, using the TreeBank dataset"
      ],
      "metadata": {
        "id": "0M_25ZROMgF_"
      }
    },
    {
      "cell_type": "code",
      "source": [
        "import nltk\n",
        "from nltk.corpus import treebank\n",
        "\n",
        "nltk.download('treebank')\n",
        "nltk.download('universal_tagset')\n",
        "\n",
        "corpus = treebank.tagged_sents(tagset='universal')"
      ],
      "metadata": {
        "colab": {
          "base_uri": "https://localhost:8080/"
        },
        "id": "MiYUgoytOrV-",
        "outputId": "89b19024-95d7-45c9-bc11-14810e7db334"
      },
      "execution_count": 11,
      "outputs": [
        {
          "output_type": "stream",
          "name": "stderr",
          "text": [
            "[nltk_data] Downloading package treebank to /root/nltk_data...\n",
            "[nltk_data]   Unzipping corpora/treebank.zip.\n",
            "[nltk_data] Downloading package universal_tagset to /root/nltk_data...\n",
            "[nltk_data]   Unzipping taggers/universal_tagset.zip.\n"
          ]
        }
      ]
    },
    {
      "cell_type": "code",
      "source": [
        "print(corpus[0])"
      ],
      "metadata": {
        "colab": {
          "base_uri": "https://localhost:8080/"
        },
        "id": "whsYFzGZPEgQ",
        "outputId": "10f7a7ec-a3d8-4a66-870e-9ce18ddc90df"
      },
      "execution_count": 12,
      "outputs": [
        {
          "output_type": "stream",
          "name": "stdout",
          "text": [
            "[('Pierre', 'NOUN'), ('Vinken', 'NOUN'), (',', '.'), ('61', 'NUM'), ('years', 'NOUN'), ('old', 'ADJ'), (',', '.'), ('will', 'VERB'), ('join', 'VERB'), ('the', 'DET'), ('board', 'NOUN'), ('as', 'ADP'), ('a', 'DET'), ('nonexecutive', 'ADJ'), ('director', 'NOUN'), ('Nov.', 'NOUN'), ('29', 'NUM'), ('.', '.')]\n"
          ]
        }
      ]
    },
    {
      "cell_type": "code",
      "source": [
        "X = []\n",
        "Y = []\n",
        "\n",
        "# loop through the rows in corpus\n",
        "for row in range(0, len(corpus)):\n",
        "    X_row = []\n",
        "    y_row = []\n",
        "    for val in range(0, len(corpus[row])):\n",
        "        one = corpus[row][val]\n",
        "        X_row.append(one[0])\n",
        "        y_row.append(one[1])\n",
        "    X.append(X_row)\n",
        "    Y.append(y_row)\n"
      ],
      "metadata": {
        "id": "yZpylrRgPKFZ"
      },
      "execution_count": 13,
      "outputs": []
    },
    {
      "cell_type": "code",
      "source": [
        "print(X[1])\n",
        "print(Y[1])"
      ],
      "metadata": {
        "colab": {
          "base_uri": "https://localhost:8080/"
        },
        "id": "6juFOh9Hhw2o",
        "outputId": "1684e94d-267b-4e38-f069-2a3efdb0631c"
      },
      "execution_count": 14,
      "outputs": [
        {
          "output_type": "stream",
          "name": "stdout",
          "text": [
            "['Mr.', 'Vinken', 'is', 'chairman', 'of', 'Elsevier', 'N.V.', ',', 'the', 'Dutch', 'publishing', 'group', '.']\n",
            "['NOUN', 'NOUN', 'VERB', 'NOUN', 'ADP', 'NOUN', 'NOUN', '.', 'DET', 'NOUN', 'VERB', 'NOUN', '.']\n"
          ]
        }
      ]
    },
    {
      "cell_type": "markdown",
      "source": [
        "Convert X and Y to integers using Keras Tokenizer"
      ],
      "metadata": {
        "id": "iCDCmXwuiXus"
      }
    },
    {
      "cell_type": "code",
      "source": [
        "tokenizer1 = Tokenizer()\n",
        "tokenizer2 = Tokenizer()\n",
        "tokenizer1.fit_on_texts(X)\n",
        "tokenizer2.fit_on_texts(Y)\n",
        "X_encoded = tokenizer1.texts_to_sequences(X)\n",
        "Y_encoded = tokenizer2.texts_to_sequences(Y)"
      ],
      "metadata": {
        "id": "xJJV7YTciWyB"
      },
      "execution_count": 15,
      "outputs": []
    },
    {
      "cell_type": "code",
      "source": [
        "vocab_word_to_index = tokenizer1.word_index\n",
        "class_tokenizer = tokenizer2.word_index"
      ],
      "metadata": {
        "id": "mwje78wHmH1o"
      },
      "execution_count": 30,
      "outputs": []
    },
    {
      "cell_type": "markdown",
      "source": [
        "We get the vocabulary size for X (number of unique integers) and the number of classes for Y (will be the classes that the model need to classify)."
      ],
      "metadata": {
        "id": "AZChU_haizrn"
      }
    },
    {
      "cell_type": "code",
      "source": [
        "def getValues(data):\n",
        "    maximum = 0\n",
        "    for i in range(0, len(data)):\n",
        "        if max(data[i]) > maximum:\n",
        "            maximum = max(data[i])\n",
        "    return maximum\n",
        "\n",
        "\n",
        "size_vocab = getValues(X_encoded) + 1 #add 1 because of the padding 0\n",
        "pos = getValues(Y_encoded)\n",
        "\n",
        "\n",
        "\n",
        "print(f'The size of vocab is {size_vocab}')\n",
        "print(f'The size of pos tags is {pos}')\n",
        "\n",
        "\n"
      ],
      "metadata": {
        "colab": {
          "base_uri": "https://localhost:8080/"
        },
        "id": "JWZverBvipPi",
        "outputId": "4dde2d68-b99b-47ba-f92a-b2e9fd3ccb2b"
      },
      "execution_count": 16,
      "outputs": [
        {
          "output_type": "stream",
          "name": "stdout",
          "text": [
            "The size of vocab is 11388\n",
            "The size of pos tags is 12\n"
          ]
        }
      ]
    },
    {
      "cell_type": "markdown",
      "source": [
        "We get the lengths of the arrays we will pad as the length of the biggest sentence. This will be the value for maxlen."
      ],
      "metadata": {
        "id": "9br0bT7Rja8f"
      }
    },
    {
      "cell_type": "code",
      "source": [
        "def lenghts(X):\n",
        "    arr = []\n",
        "    for i in X:\n",
        "        arr.append(len(i))\n",
        "    return arr\n",
        "\n",
        "length1 = max(lenghts(X_encoded))\n",
        "length2 = max(lenghts(Y_encoded))\n",
        "X_padded = pad_sequences(X_encoded, maxlen= length1, padding='pre')\n",
        "Y_padded = pad_sequences(Y_encoded, maxlen= length2, padding='pre')\n"
      ],
      "metadata": {
        "id": "QMXU_oUFjKfm"
      },
      "execution_count": 17,
      "outputs": []
    },
    {
      "cell_type": "code",
      "source": [
        "print(X_padded[1])\n",
        "print(Y_padded[1])"
      ],
      "metadata": {
        "colab": {
          "base_uri": "https://localhost:8080/"
        },
        "id": "XJvgrFuRj-kK",
        "outputId": "87e6cbad-39ec-4707-e09c-c27a74f52e82"
      },
      "execution_count": 18,
      "outputs": [
        {
          "output_type": "stream",
          "name": "stdout",
          "text": [
            "[   0    0    0    0    0    0    0    0    0    0    0    0    0    0\n",
            "    0    0    0    0    0    0    0    0    0    0    0    0    0    0\n",
            "    0    0    0    0    0    0    0    0    0    0    0    0    0    0\n",
            "    0    0    0    0    0    0    0    0    0    0    0    0    0    0\n",
            "    0    0    0    0    0    0    0    0    0    0    0    0    0    0\n",
            "    0    0    0    0    0    0    0    0    0    0    0    0    0    0\n",
            "    0    0    0    0    0    0    0    0    0    0    0    0    0    0\n",
            "    0    0    0    0    0    0    0    0    0    0    0    0    0    0\n",
            "    0    0    0    0    0    0    0    0    0    0    0    0    0    0\n",
            "    0    0    0    0    0    0    0    0    0    0    0    0    0    0\n",
            "    0    0    0    0    0    0    0    0    0    0    0    0    0    0\n",
            "    0    0    0    0    0    0    0    0    0    0    0    0    0    0\n",
            "    0    0    0    0    0    0    0    0    0    0    0    0    0    0\n",
            "    0    0    0    0    0    0    0    0    0    0    0    0    0    0\n",
            "    0    0    0    0    0    0    0    0    0    0    0    0    0    0\n",
            "    0    0    0    0    0    0    0    0    0    0    0    0    0    0\n",
            "    0    0    0    0    0    0    0    0    0    0    0    0    0    0\n",
            "    0    0    0    0    0    0    0    0    0    0    0    0    0    0\n",
            "    0    0    0    0    0    0   31 3746   20  177    4 5602 2915    1\n",
            "    2 2916  637  147    3]\n",
            "[0 0 0 0 0 0 0 0 0 0 0 0 0 0 0 0 0 0 0 0 0 0 0 0 0 0 0 0 0 0 0 0 0 0 0 0 0\n",
            " 0 0 0 0 0 0 0 0 0 0 0 0 0 0 0 0 0 0 0 0 0 0 0 0 0 0 0 0 0 0 0 0 0 0 0 0 0\n",
            " 0 0 0 0 0 0 0 0 0 0 0 0 0 0 0 0 0 0 0 0 0 0 0 0 0 0 0 0 0 0 0 0 0 0 0 0 0\n",
            " 0 0 0 0 0 0 0 0 0 0 0 0 0 0 0 0 0 0 0 0 0 0 0 0 0 0 0 0 0 0 0 0 0 0 0 0 0\n",
            " 0 0 0 0 0 0 0 0 0 0 0 0 0 0 0 0 0 0 0 0 0 0 0 0 0 0 0 0 0 0 0 0 0 0 0 0 0\n",
            " 0 0 0 0 0 0 0 0 0 0 0 0 0 0 0 0 0 0 0 0 0 0 0 0 0 0 0 0 0 0 0 0 0 0 0 0 0\n",
            " 0 0 0 0 0 0 0 0 0 0 0 0 0 0 0 0 0 0 0 0 0 0 0 0 0 0 0 0 0 0 0 0 0 0 0 0 1\n",
            " 1 2 1 4 1 1 3 5 1 2 1 3]\n"
          ]
        }
      ]
    },
    {
      "cell_type": "markdown",
      "source": [
        "We hot encode the values of Y_padded"
      ],
      "metadata": {
        "id": "KbbgamWJkQIA"
      }
    },
    {
      "cell_type": "code",
      "source": [
        "Y = to_categorical(Y_padded)\n",
        "pos = Y.shape[2]"
      ],
      "metadata": {
        "id": "ZNAGi7WskOpD"
      },
      "execution_count": 20,
      "outputs": []
    },
    {
      "cell_type": "markdown",
      "source": [
        "Split the data into train and test"
      ],
      "metadata": {
        "id": "Tr1Ty935kXDI"
      }
    },
    {
      "cell_type": "code",
      "source": [
        "X_train, X_test, y_train, y_test = train_test_split(X_padded, Y, test_size=0.25, random_state=100)"
      ],
      "metadata": {
        "id": "d4X2WUZZkZvZ"
      },
      "execution_count": 21,
      "outputs": []
    },
    {
      "cell_type": "markdown",
      "source": [
        "We will do the POS tagger by creating a model using pre-trained embeddings, which can lead to better performance as it is trained on large text using Google News, where embedding size is 300."
      ],
      "metadata": {
        "id": "I0YkL32umd4d"
      }
    },
    {
      "cell_type": "markdown",
      "source": [
        "### Because of the large size the file is uploaded to google drive.\n"
      ],
      "metadata": {
        "id": "aphGH5Z5mqBM"
      }
    },
    {
      "cell_type": "code",
      "source": [
        "from google.colab import drive\n",
        "import os\n",
        "from gensim.models import KeyedVectors\n",
        "\n",
        "drive.mount('/content/drive')\n",
        "\n",
        "folder_path = '/content/drive/MyDrive/Embeddings'\n",
        "filename = 'GoogleNews-vectors-negative300.bin'\n",
        "\n",
        "\n",
        "path = os.path.join(folder_path, filename)\n",
        "\n",
        "word2vec = KeyedVectors.load_word2vec_format(path, binary=True)"
      ],
      "metadata": {
        "colab": {
          "base_uri": "https://localhost:8080/"
        },
        "id": "QD8Y-smLk-2V",
        "outputId": "8ff3b409-028f-4729-93a5-259c73d2f5fe"
      },
      "execution_count": 22,
      "outputs": [
        {
          "output_type": "stream",
          "name": "stdout",
          "text": [
            "Mounted at /content/drive\n"
          ]
        }
      ]
    },
    {
      "cell_type": "code",
      "source": [
        "embedding_size = 300\n",
        "embeddings = np.zeros((size_vocab, embedding_size))\n",
        "\n",
        "#one row corresponds to the embeddings of one word in the vocabulary\n",
        "for i, j in vocab_word_to_index.items():\n",
        "  if i in word2vec:\n",
        "    embeddings[j] = word2vec[i]\n",
        "\n",
        "print(embeddings.shape)"
      ],
      "metadata": {
        "colab": {
          "base_uri": "https://localhost:8080/"
        },
        "id": "X6DfpEWvlI6W",
        "outputId": "f2d28aa3-068c-4927-b0e0-dd0e2a916f5a"
      },
      "execution_count": 26,
      "outputs": [
        {
          "output_type": "stream",
          "name": "stdout",
          "text": [
            "(11388, 300)\n"
          ]
        }
      ]
    },
    {
      "cell_type": "markdown",
      "source": [
        "Creating the model using the LSTM arhitecture"
      ],
      "metadata": {
        "id": "JZTjB2Y_mrjV"
      }
    },
    {
      "cell_type": "code",
      "source": [
        "model2 = Sequential()\n",
        "model2.add(Embedding(input_dim=size_vocab, output_dim=embedding_size, weights=[embeddings], input_length=length1, trainable=False))\n",
        "model2.add(LSTM(32, return_sequences=True))\n",
        "model2.add(TimeDistributed(Dense(pos, activation='softmax')))\n",
        "# model summary\n",
        "model2.summary()"
      ],
      "metadata": {
        "colab": {
          "base_uri": "https://localhost:8080/"
        },
        "id": "VTWD8eRPkgpx",
        "outputId": "659b8466-4745-47eb-db10-434c2972e561"
      },
      "execution_count": 27,
      "outputs": [
        {
          "output_type": "stream",
          "name": "stdout",
          "text": [
            "Model: \"sequential\"\n",
            "_________________________________________________________________\n",
            " Layer (type)                Output Shape              Param #   \n",
            "=================================================================\n",
            " embedding (Embedding)       (None, 271, 300)          3416400   \n",
            "                                                                 \n",
            " lstm (LSTM)                 (None, 271, 32)           42624     \n",
            "                                                                 \n",
            " time_distributed (TimeDist  (None, 271, 13)           429       \n",
            " ributed)                                                        \n",
            "                                                                 \n",
            "=================================================================\n",
            "Total params: 3459453 (13.20 MB)\n",
            "Trainable params: 43053 (168.18 KB)\n",
            "Non-trainable params: 3416400 (13.03 MB)\n",
            "_________________________________________________________________\n"
          ]
        }
      ]
    },
    {
      "cell_type": "code",
      "source": [
        "model2.compile(optimizer='adam', loss='categorical_crossentropy', metrics=['accuracy'])"
      ],
      "metadata": {
        "id": "1XbSgIixkou2"
      },
      "execution_count": 28,
      "outputs": []
    },
    {
      "cell_type": "code",
      "source": [
        "model2.fit(X_train, y_train, epochs=40, validation_data=(X_test, y_test))"
      ],
      "metadata": {
        "colab": {
          "base_uri": "https://localhost:8080/"
        },
        "id": "sQ0f1BtqkrE-",
        "outputId": "a5bb5fda-c087-4206-bbb3-6644e6f1352a"
      },
      "execution_count": 29,
      "outputs": [
        {
          "output_type": "stream",
          "name": "stdout",
          "text": [
            "Epoch 1/40\n",
            "92/92 [==============================] - 21s 195ms/step - loss: 1.0026 - accuracy: 0.9205 - val_loss: 0.3242 - val_accuracy: 0.9282\n",
            "Epoch 2/40\n",
            "92/92 [==============================] - 18s 200ms/step - loss: 0.2919 - accuracy: 0.9312 - val_loss: 0.2610 - val_accuracy: 0.9348\n",
            "Epoch 3/40\n",
            "92/92 [==============================] - 17s 188ms/step - loss: 0.2447 - accuracy: 0.9385 - val_loss: 0.2241 - val_accuracy: 0.9460\n",
            "Epoch 4/40\n",
            "92/92 [==============================] - 19s 206ms/step - loss: 0.2123 - accuracy: 0.9494 - val_loss: 0.1955 - val_accuracy: 0.9530\n",
            "Epoch 5/40\n",
            "92/92 [==============================] - 19s 212ms/step - loss: 0.1856 - accuracy: 0.9548 - val_loss: 0.1711 - val_accuracy: 0.9591\n",
            "Epoch 6/40\n",
            "92/92 [==============================] - 19s 207ms/step - loss: 0.1631 - accuracy: 0.9622 - val_loss: 0.1510 - val_accuracy: 0.9657\n",
            "Epoch 7/40\n",
            "92/92 [==============================] - 20s 216ms/step - loss: 0.1448 - accuracy: 0.9662 - val_loss: 0.1351 - val_accuracy: 0.9681\n",
            "Epoch 8/40\n",
            "92/92 [==============================] - 21s 227ms/step - loss: 0.1307 - accuracy: 0.9693 - val_loss: 0.1228 - val_accuracy: 0.9712\n",
            "Epoch 9/40\n",
            "92/92 [==============================] - 17s 187ms/step - loss: 0.1194 - accuracy: 0.9718 - val_loss: 0.1131 - val_accuracy: 0.9728\n",
            "Epoch 10/40\n",
            "92/92 [==============================] - 16s 176ms/step - loss: 0.1103 - accuracy: 0.9731 - val_loss: 0.1053 - val_accuracy: 0.9742\n",
            "Epoch 11/40\n",
            "92/92 [==============================] - 16s 175ms/step - loss: 0.1032 - accuracy: 0.9744 - val_loss: 0.0992 - val_accuracy: 0.9755\n",
            "Epoch 12/40\n",
            "92/92 [==============================] - 20s 218ms/step - loss: 0.0978 - accuracy: 0.9757 - val_loss: 0.0947 - val_accuracy: 0.9763\n",
            "Epoch 13/40\n",
            "92/92 [==============================] - 17s 186ms/step - loss: 0.0932 - accuracy: 0.9765 - val_loss: 0.0904 - val_accuracy: 0.9771\n",
            "Epoch 14/40\n",
            "92/92 [==============================] - 30s 332ms/step - loss: 0.0891 - accuracy: 0.9775 - val_loss: 0.0869 - val_accuracy: 0.9781\n",
            "Epoch 15/40\n",
            "92/92 [==============================] - 26s 282ms/step - loss: 0.0857 - accuracy: 0.9783 - val_loss: 0.0839 - val_accuracy: 0.9787\n",
            "Epoch 16/40\n",
            "92/92 [==============================] - 17s 186ms/step - loss: 0.0827 - accuracy: 0.9788 - val_loss: 0.0813 - val_accuracy: 0.9790\n",
            "Epoch 17/40\n",
            "92/92 [==============================] - 20s 221ms/step - loss: 0.0801 - accuracy: 0.9793 - val_loss: 0.0789 - val_accuracy: 0.9794\n",
            "Epoch 18/40\n",
            "92/92 [==============================] - 16s 177ms/step - loss: 0.0777 - accuracy: 0.9796 - val_loss: 0.0769 - val_accuracy: 0.9799\n",
            "Epoch 19/40\n",
            "92/92 [==============================] - 18s 196ms/step - loss: 0.0757 - accuracy: 0.9802 - val_loss: 0.0751 - val_accuracy: 0.9803\n",
            "Epoch 20/40\n",
            "92/92 [==============================] - 19s 202ms/step - loss: 0.0738 - accuracy: 0.9806 - val_loss: 0.0734 - val_accuracy: 0.9806\n",
            "Epoch 21/40\n",
            "92/92 [==============================] - 20s 218ms/step - loss: 0.0721 - accuracy: 0.9809 - val_loss: 0.0720 - val_accuracy: 0.9809\n",
            "Epoch 22/40\n",
            "92/92 [==============================] - 30s 326ms/step - loss: 0.0705 - accuracy: 0.9813 - val_loss: 0.0707 - val_accuracy: 0.9813\n",
            "Epoch 23/40\n",
            "92/92 [==============================] - 27s 290ms/step - loss: 0.0690 - accuracy: 0.9815 - val_loss: 0.0693 - val_accuracy: 0.9815\n",
            "Epoch 24/40\n",
            "92/92 [==============================] - 16s 175ms/step - loss: 0.0677 - accuracy: 0.9819 - val_loss: 0.0682 - val_accuracy: 0.9818\n",
            "Epoch 25/40\n",
            "92/92 [==============================] - 16s 171ms/step - loss: 0.0664 - accuracy: 0.9822 - val_loss: 0.0671 - val_accuracy: 0.9820\n",
            "Epoch 26/40\n",
            "92/92 [==============================] - 17s 189ms/step - loss: 0.0653 - accuracy: 0.9825 - val_loss: 0.0661 - val_accuracy: 0.9824\n",
            "Epoch 27/40\n",
            "92/92 [==============================] - 17s 189ms/step - loss: 0.0643 - accuracy: 0.9828 - val_loss: 0.0652 - val_accuracy: 0.9826\n",
            "Epoch 28/40\n",
            "92/92 [==============================] - 17s 188ms/step - loss: 0.0632 - accuracy: 0.9830 - val_loss: 0.0646 - val_accuracy: 0.9827\n",
            "Epoch 29/40\n",
            "92/92 [==============================] - 18s 199ms/step - loss: 0.0622 - accuracy: 0.9832 - val_loss: 0.0636 - val_accuracy: 0.9829\n",
            "Epoch 30/40\n",
            "92/92 [==============================] - 16s 176ms/step - loss: 0.0728 - accuracy: 0.9796 - val_loss: 0.0658 - val_accuracy: 0.9826\n",
            "Epoch 31/40\n",
            "92/92 [==============================] - 16s 179ms/step - loss: 0.0622 - accuracy: 0.9832 - val_loss: 0.0633 - val_accuracy: 0.9828\n",
            "Epoch 32/40\n",
            "92/92 [==============================] - 18s 191ms/step - loss: 0.0609 - accuracy: 0.9835 - val_loss: 0.0627 - val_accuracy: 0.9830\n",
            "Epoch 33/40\n",
            "92/92 [==============================] - 18s 198ms/step - loss: 0.0601 - accuracy: 0.9836 - val_loss: 0.0621 - val_accuracy: 0.9831\n",
            "Epoch 34/40\n",
            "92/92 [==============================] - 17s 181ms/step - loss: 0.0594 - accuracy: 0.9838 - val_loss: 0.0616 - val_accuracy: 0.9832\n",
            "Epoch 35/40\n",
            "92/92 [==============================] - 17s 179ms/step - loss: 0.0588 - accuracy: 0.9840 - val_loss: 0.0611 - val_accuracy: 0.9833\n",
            "Epoch 36/40\n",
            "92/92 [==============================] - 16s 173ms/step - loss: 0.0582 - accuracy: 0.9841 - val_loss: 0.0607 - val_accuracy: 0.9833\n",
            "Epoch 37/40\n",
            "92/92 [==============================] - 17s 180ms/step - loss: 0.0576 - accuracy: 0.9842 - val_loss: 0.0603 - val_accuracy: 0.9835\n",
            "Epoch 38/40\n",
            "92/92 [==============================] - 17s 180ms/step - loss: 0.0570 - accuracy: 0.9843 - val_loss: 0.0599 - val_accuracy: 0.9836\n",
            "Epoch 39/40\n",
            "92/92 [==============================] - 17s 184ms/step - loss: 0.0565 - accuracy: 0.9845 - val_loss: 0.0595 - val_accuracy: 0.9836\n",
            "Epoch 40/40\n",
            "92/92 [==============================] - 17s 180ms/step - loss: 0.0559 - accuracy: 0.9846 - val_loss: 0.0592 - val_accuracy: 0.9838\n"
          ]
        },
        {
          "output_type": "execute_result",
          "data": {
            "text/plain": [
              "<keras.src.callbacks.History at 0x7ae75d120c70>"
            ]
          },
          "metadata": {},
          "execution_count": 29
        }
      ]
    },
    {
      "cell_type": "markdown",
      "source": [
        "## Testing the model"
      ],
      "metadata": {
        "id": "YPl48fepmyz0"
      }
    },
    {
      "cell_type": "code",
      "source": [
        "text=['Pertaining to this context, Sentiment Analysis represents an area of study that leverages natural language processing to interpret and classify emotions in textual data, thereby transforming unstructured text into meaningful insights, tailored to fulfill the specific understanding requirements of the audience.',\n",
        "      'In this vein, Machine Translation stands as a pivotal field in computational linguistics, focusing on the use of algorithms to convert text or speech from one language to another, effectively narrowing the communication divide by transforming multilingual data into accessible and actionable information, customized for diverse linguistic needs.']"
      ],
      "metadata": {
        "id": "blh-HaqJmyAy"
      },
      "execution_count": 37,
      "outputs": []
    },
    {
      "cell_type": "markdown",
      "source": [
        "We need to process the text the same way as the text the model was trained on, so we tokenize it.\n",
        "\n"
      ],
      "metadata": {
        "id": "Dnloyk4YqTpE"
      }
    },
    {
      "cell_type": "code",
      "source": [
        "tokenizer = Tokenizer()\n",
        "tokenizer.fit_on_texts(text)\n",
        "X_encoded = tokenizer.texts_to_sequences(text)"
      ],
      "metadata": {
        "id": "rg3z-j78nGI2"
      },
      "execution_count": 38,
      "outputs": []
    },
    {
      "cell_type": "code",
      "source": [
        "X_padded = pad_sequences(X_encoded, maxlen=length1, padding='pre', truncating='post')\n"
      ],
      "metadata": {
        "id": "Ezt2_BmOnOPK"
      },
      "execution_count": 39,
      "outputs": []
    },
    {
      "cell_type": "markdown",
      "source": [
        "We get the labels Y and create a dictionary with them, where the key is the class and the value is what it maps to."
      ],
      "metadata": {
        "id": "XWFJf8mrqgL0"
      }
    },
    {
      "cell_type": "code",
      "source": [
        "predictions = model2.predict(X_padded)\n",
        "\n",
        "map_tokens = class_tokenizer\n",
        "dicti = {v: k for k, v in map_tokens.items()}\n",
        "\n",
        "print(dicti)\n"
      ],
      "metadata": {
        "colab": {
          "base_uri": "https://localhost:8080/"
        },
        "id": "cD8s4XONno1x",
        "outputId": "d2ed86cc-4b13-44c5-95b3-4533b2dd6711"
      },
      "execution_count": 40,
      "outputs": [
        {
          "output_type": "stream",
          "name": "stdout",
          "text": [
            "1/1 [==============================] - 0s 44ms/step\n",
            "{1: 'noun', 2: 'verb', 3: '.', 4: 'adp', 5: 'det', 6: 'x', 7: 'adj', 8: 'num', 9: 'prt', 10: 'adv', 11: 'pron', 12: 'conj'}\n"
          ]
        }
      ]
    },
    {
      "cell_type": "code",
      "source": [
        "\n",
        "predicted_arr = []\n",
        "\n",
        "\n",
        "prediction = np.argmax(predictions, axis=2)\n",
        "#loop through rows\n",
        "for row in range(0,len(prediction)):\n",
        "    arr = []\n",
        "    for word in range(0, len(prediction[row])):\n",
        "        pr = prediction[row][word]\n",
        "        if pr in dicti:\n",
        "            arr.append(dicti.get(pr))\n",
        "    if len(arr) > 0:\n",
        "        predicted_arr.append(arr)\n",
        "\n",
        "str_arr = []\n",
        "for sentence in text:\n",
        "    tokens = re.split(r'([.])|\\s+', sentence)\n",
        "    tokens = list(filter(None, tokens))\n",
        "    str_arr.append(tokens)\n",
        "\n",
        "\n",
        "\n",
        "final_val = []\n",
        "#loop through rows of predicted\n",
        "for i in range(0, len(predicted_arr)):\n",
        "    for m in range(0, len(str_arr)):\n",
        "        #if the rows are the same\n",
        "        if i == m:\n",
        "            arr = []\n",
        "          #looping through the numbers of the prediction\n",
        "            for j in range(0, len(predicted_arr[i])):\n",
        "                tuple1 = (str_arr[m][j], predicted_arr[i][j])\n",
        "                arr.append(tuple1)\n",
        "    final_val.append(arr)\n",
        "\n",
        "print(final_val[0])\n",
        "print(final_val[1])\n"
      ],
      "metadata": {
        "colab": {
          "base_uri": "https://localhost:8080/"
        },
        "id": "4ItLld2EndxD",
        "outputId": "6350a24c-2130-4f65-f9fc-5645f80c9b7f"
      },
      "execution_count": 43,
      "outputs": [
        {
          "output_type": "stream",
          "name": "stdout",
          "text": [
            "[('Pertaining', 'adp'), ('to', 'det'), ('this', 'x'), ('context,', '.'), ('Sentiment', '.'), ('Analysis', 'num'), ('represents', 'x'), ('an', '.'), ('area', 'verb'), ('of', 'verb'), ('study', 'pron'), ('that', 'x'), ('leverages', 'adp'), ('natural', 'det'), ('language', 'noun'), ('processing', 'adp'), ('to', 'adp'), ('interpret', 'adp'), ('and', 'noun'), ('classify', 'adp'), ('emotions', 'det'), ('in', 'adp'), ('textual', 'det'), ('data,', 'adp'), ('thereby', 'x'), ('transforming', 'x'), ('unstructured', 'num'), ('text', 'x'), ('into', '.'), ('meaningful', '.'), ('insights,', 'verb'), ('tailored', 'det'), ('to', 'verb'), ('fulfill', 'verb'), ('the', 'det'), ('specific', '.'), ('understanding', 'det'), ('requirements', 'pron')]\n",
            "[('In', 'verb'), ('this', 'det'), ('vein,', 'adj'), ('Machine', 'verb'), ('Translation', 'adv'), ('stands', 'conj'), ('as', 'pron'), ('a', 'conj'), ('pivotal', '.'), ('field', 'verb'), ('in', 'pron'), ('computational', 'noun'), ('linguistics,', '.'), ('focusing', 'det'), ('on', 'det'), ('the', 'x'), ('use', 'det'), ('of', 'noun'), ('algorithms', '.'), ('to', 'x'), ('convert', 'verb'), ('text', 'noun'), ('or', 'adp'), ('speech', 'verb'), ('from', 'x'), ('one', 'prt'), ('language', 'adj'), ('to', 'verb'), ('another,', 'noun'), ('effectively', 'det'), ('narrowing', 'pron'), ('the', 'adp'), ('communication', 'noun'), ('divide', '.'), ('by', '.'), ('transforming', '.'), ('multilingual', 'x'), ('data', 'pron'), ('into', 'adp'), ('accessible', 'noun'), ('and', 'verb'), ('actionable', 'adv'), ('information,', 'noun'), ('customized', 'num'), ('for', 'prt'), ('diverse', 'num')]\n"
          ]
        }
      ]
    },
    {
      "cell_type": "markdown",
      "source": [
        "As you can see the model does not perform so well on unseen data, even though the testing accuracy is 98.38%, the explanation is that the model has not been trained on a large amount of data."
      ],
      "metadata": {
        "id": "9KN39aJ_q5Jv"
      }
    }
  ]
}