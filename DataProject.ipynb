{
  "cells": [
    {
      "cell_type": "markdown",
      "metadata": {
        "id": "_1VnfFmoY0ce"
      },
      "source": [
        "# Creating a model that detects spam emails using the RNN arhitecture."
      ]
    },
    {
      "cell_type": "markdown",
      "metadata": {
        "id": "G8H4FiI2hXzs"
      },
      "source": [
        "# Model that detects spam emails"
      ]
    },
    {
      "cell_type": "markdown",
      "metadata": {
        "id": "ZdeJgxXNa_WL"
      },
      "source": [
        "There will be 2 arhitectures, the LSTM and GRU one. The dataset consists of 5572 rows of emails, where X is the email text and Y is the label. The label have 2 values: spam, meaning the email is classified as spam and ham, meaning the email is not classified as spam. The dataset is provided on github."
      ]
    },
    {
      "cell_type": "code",
      "execution_count": 19,
      "metadata": {
        "colab": {
          "base_uri": "https://localhost:8080/"
        },
        "id": "4rFmMBoBZgjr",
        "outputId": "0fc1819f-05c5-4543-c66a-3fb5b46262ba"
      },
      "outputs": [
        {
          "name": "stdout",
          "output_type": "stream",
          "text": [
            "Requirement already satisfied: Keras-Preprocessing in /usr/local/lib/python3.10/dist-packages (1.1.2)\n",
            "Requirement already satisfied: numpy>=1.9.1 in /usr/local/lib/python3.10/dist-packages (from Keras-Preprocessing) (1.23.5)\n",
            "Requirement already satisfied: six>=1.9.0 in /usr/local/lib/python3.10/dist-packages (from Keras-Preprocessing) (1.16.0)\n"
          ]
        }
      ],
      "source": [
        "!pip install Keras-Preprocessing\n",
        "import pandas as pd\n",
        "import re\n",
        "import numpy as np\n",
        "from keras.preprocessing.text import Tokenizer\n",
        "from keras_preprocessing.sequence import pad_sequences\n",
        "from keras.models import Model\n",
        "from sklearn.model_selection import train_test_split\n",
        "from keras.layers import LSTM, GRU, SimpleRNN\n",
        "from keras.models import Sequential\n",
        "from keras.layers import Embedding\n",
        "from keras.layers import Dense, Input\n",
        "from matplotlib import pyplot as plt\n",
        "from keras.layers import TimeDistributed\n",
        "from keras.utils import to_categorical\n",
        "\n",
        "\n"
      ]
    },
    {
      "cell_type": "code",
      "execution_count": 4,
      "metadata": {
        "colab": {
          "base_uri": "https://localhost:8080/",
          "height": 206
        },
        "id": "yudpdfHBZlO8",
        "outputId": "1c4b866f-8c46-4c81-c9ac-196fea4a65bb"
      },
      "outputs": [
        {
          "data": {
            "text/html": [
              "\n",
              "  <div id=\"df-4fa032e9-9bcf-4661-abbf-82e625f8e388\" class=\"colab-df-container\">\n",
              "    <div>\n",
              "<style scoped>\n",
              "    .dataframe tbody tr th:only-of-type {\n",
              "        vertical-align: middle;\n",
              "    }\n",
              "\n",
              "    .dataframe tbody tr th {\n",
              "        vertical-align: top;\n",
              "    }\n",
              "\n",
              "    .dataframe thead th {\n",
              "        text-align: right;\n",
              "    }\n",
              "</style>\n",
              "<table border=\"1\" class=\"dataframe\">\n",
              "  <thead>\n",
              "    <tr style=\"text-align: right;\">\n",
              "      <th></th>\n",
              "      <th>v1</th>\n",
              "      <th>v2</th>\n",
              "      <th>Unnamed: 2</th>\n",
              "      <th>Unnamed: 3</th>\n",
              "      <th>Unnamed: 4</th>\n",
              "    </tr>\n",
              "  </thead>\n",
              "  <tbody>\n",
              "    <tr>\n",
              "      <th>0</th>\n",
              "      <td>ham</td>\n",
              "      <td>Go until jurong point, crazy.. Available only ...</td>\n",
              "      <td>NaN</td>\n",
              "      <td>NaN</td>\n",
              "      <td>NaN</td>\n",
              "    </tr>\n",
              "    <tr>\n",
              "      <th>1</th>\n",
              "      <td>ham</td>\n",
              "      <td>Ok lar... Joking wif u oni...</td>\n",
              "      <td>NaN</td>\n",
              "      <td>NaN</td>\n",
              "      <td>NaN</td>\n",
              "    </tr>\n",
              "    <tr>\n",
              "      <th>2</th>\n",
              "      <td>spam</td>\n",
              "      <td>Free entry in 2 a wkly comp to win FA Cup fina...</td>\n",
              "      <td>NaN</td>\n",
              "      <td>NaN</td>\n",
              "      <td>NaN</td>\n",
              "    </tr>\n",
              "    <tr>\n",
              "      <th>3</th>\n",
              "      <td>ham</td>\n",
              "      <td>U dun say so early hor... U c already then say...</td>\n",
              "      <td>NaN</td>\n",
              "      <td>NaN</td>\n",
              "      <td>NaN</td>\n",
              "    </tr>\n",
              "    <tr>\n",
              "      <th>4</th>\n",
              "      <td>ham</td>\n",
              "      <td>Nah I don't think he goes to usf, he lives aro...</td>\n",
              "      <td>NaN</td>\n",
              "      <td>NaN</td>\n",
              "      <td>NaN</td>\n",
              "    </tr>\n",
              "  </tbody>\n",
              "</table>\n",
              "</div>\n",
              "    <div class=\"colab-df-buttons\">\n",
              "\n",
              "  <div class=\"colab-df-container\">\n",
              "    <button class=\"colab-df-convert\" onclick=\"convertToInteractive('df-4fa032e9-9bcf-4661-abbf-82e625f8e388')\"\n",
              "            title=\"Convert this dataframe to an interactive table.\"\n",
              "            style=\"display:none;\">\n",
              "\n",
              "  <svg xmlns=\"http://www.w3.org/2000/svg\" height=\"24px\" viewBox=\"0 -960 960 960\">\n",
              "    <path d=\"M120-120v-720h720v720H120Zm60-500h600v-160H180v160Zm220 220h160v-160H400v160Zm0 220h160v-160H400v160ZM180-400h160v-160H180v160Zm440 0h160v-160H620v160ZM180-180h160v-160H180v160Zm440 0h160v-160H620v160Z\"/>\n",
              "  </svg>\n",
              "    </button>\n",
              "\n",
              "  <style>\n",
              "    .colab-df-container {\n",
              "      display:flex;\n",
              "      gap: 12px;\n",
              "    }\n",
              "\n",
              "    .colab-df-convert {\n",
              "      background-color: #E8F0FE;\n",
              "      border: none;\n",
              "      border-radius: 50%;\n",
              "      cursor: pointer;\n",
              "      display: none;\n",
              "      fill: #1967D2;\n",
              "      height: 32px;\n",
              "      padding: 0 0 0 0;\n",
              "      width: 32px;\n",
              "    }\n",
              "\n",
              "    .colab-df-convert:hover {\n",
              "      background-color: #E2EBFA;\n",
              "      box-shadow: 0px 1px 2px rgba(60, 64, 67, 0.3), 0px 1px 3px 1px rgba(60, 64, 67, 0.15);\n",
              "      fill: #174EA6;\n",
              "    }\n",
              "\n",
              "    .colab-df-buttons div {\n",
              "      margin-bottom: 4px;\n",
              "    }\n",
              "\n",
              "    [theme=dark] .colab-df-convert {\n",
              "      background-color: #3B4455;\n",
              "      fill: #D2E3FC;\n",
              "    }\n",
              "\n",
              "    [theme=dark] .colab-df-convert:hover {\n",
              "      background-color: #434B5C;\n",
              "      box-shadow: 0px 1px 3px 1px rgba(0, 0, 0, 0.15);\n",
              "      filter: drop-shadow(0px 1px 2px rgba(0, 0, 0, 0.3));\n",
              "      fill: #FFFFFF;\n",
              "    }\n",
              "  </style>\n",
              "\n",
              "    <script>\n",
              "      const buttonEl =\n",
              "        document.querySelector('#df-4fa032e9-9bcf-4661-abbf-82e625f8e388 button.colab-df-convert');\n",
              "      buttonEl.style.display =\n",
              "        google.colab.kernel.accessAllowed ? 'block' : 'none';\n",
              "\n",
              "      async function convertToInteractive(key) {\n",
              "        const element = document.querySelector('#df-4fa032e9-9bcf-4661-abbf-82e625f8e388');\n",
              "        const dataTable =\n",
              "          await google.colab.kernel.invokeFunction('convertToInteractive',\n",
              "                                                    [key], {});\n",
              "        if (!dataTable) return;\n",
              "\n",
              "        const docLinkHtml = 'Like what you see? Visit the ' +\n",
              "          '<a target=\"_blank\" href=https://colab.research.google.com/notebooks/data_table.ipynb>data table notebook</a>'\n",
              "          + ' to learn more about interactive tables.';\n",
              "        element.innerHTML = '';\n",
              "        dataTable['output_type'] = 'display_data';\n",
              "        await google.colab.output.renderOutput(dataTable, element);\n",
              "        const docLink = document.createElement('div');\n",
              "        docLink.innerHTML = docLinkHtml;\n",
              "        element.appendChild(docLink);\n",
              "      }\n",
              "    </script>\n",
              "  </div>\n",
              "\n",
              "\n",
              "<div id=\"df-dbd11866-0539-4e05-a8d7-9113655ec707\">\n",
              "  <button class=\"colab-df-quickchart\" onclick=\"quickchart('df-dbd11866-0539-4e05-a8d7-9113655ec707')\"\n",
              "            title=\"Suggest charts\"\n",
              "            style=\"display:none;\">\n",
              "\n",
              "<svg xmlns=\"http://www.w3.org/2000/svg\" height=\"24px\"viewBox=\"0 0 24 24\"\n",
              "     width=\"24px\">\n",
              "    <g>\n",
              "        <path d=\"M19 3H5c-1.1 0-2 .9-2 2v14c0 1.1.9 2 2 2h14c1.1 0 2-.9 2-2V5c0-1.1-.9-2-2-2zM9 17H7v-7h2v7zm4 0h-2V7h2v10zm4 0h-2v-4h2v4z\"/>\n",
              "    </g>\n",
              "</svg>\n",
              "  </button>\n",
              "\n",
              "<style>\n",
              "  .colab-df-quickchart {\n",
              "      --bg-color: #E8F0FE;\n",
              "      --fill-color: #1967D2;\n",
              "      --hover-bg-color: #E2EBFA;\n",
              "      --hover-fill-color: #174EA6;\n",
              "      --disabled-fill-color: #AAA;\n",
              "      --disabled-bg-color: #DDD;\n",
              "  }\n",
              "\n",
              "  [theme=dark] .colab-df-quickchart {\n",
              "      --bg-color: #3B4455;\n",
              "      --fill-color: #D2E3FC;\n",
              "      --hover-bg-color: #434B5C;\n",
              "      --hover-fill-color: #FFFFFF;\n",
              "      --disabled-bg-color: #3B4455;\n",
              "      --disabled-fill-color: #666;\n",
              "  }\n",
              "\n",
              "  .colab-df-quickchart {\n",
              "    background-color: var(--bg-color);\n",
              "    border: none;\n",
              "    border-radius: 50%;\n",
              "    cursor: pointer;\n",
              "    display: none;\n",
              "    fill: var(--fill-color);\n",
              "    height: 32px;\n",
              "    padding: 0;\n",
              "    width: 32px;\n",
              "  }\n",
              "\n",
              "  .colab-df-quickchart:hover {\n",
              "    background-color: var(--hover-bg-color);\n",
              "    box-shadow: 0 1px 2px rgba(60, 64, 67, 0.3), 0 1px 3px 1px rgba(60, 64, 67, 0.15);\n",
              "    fill: var(--button-hover-fill-color);\n",
              "  }\n",
              "\n",
              "  .colab-df-quickchart-complete:disabled,\n",
              "  .colab-df-quickchart-complete:disabled:hover {\n",
              "    background-color: var(--disabled-bg-color);\n",
              "    fill: var(--disabled-fill-color);\n",
              "    box-shadow: none;\n",
              "  }\n",
              "\n",
              "  .colab-df-spinner {\n",
              "    border: 2px solid var(--fill-color);\n",
              "    border-color: transparent;\n",
              "    border-bottom-color: var(--fill-color);\n",
              "    animation:\n",
              "      spin 1s steps(1) infinite;\n",
              "  }\n",
              "\n",
              "  @keyframes spin {\n",
              "    0% {\n",
              "      border-color: transparent;\n",
              "      border-bottom-color: var(--fill-color);\n",
              "      border-left-color: var(--fill-color);\n",
              "    }\n",
              "    20% {\n",
              "      border-color: transparent;\n",
              "      border-left-color: var(--fill-color);\n",
              "      border-top-color: var(--fill-color);\n",
              "    }\n",
              "    30% {\n",
              "      border-color: transparent;\n",
              "      border-left-color: var(--fill-color);\n",
              "      border-top-color: var(--fill-color);\n",
              "      border-right-color: var(--fill-color);\n",
              "    }\n",
              "    40% {\n",
              "      border-color: transparent;\n",
              "      border-right-color: var(--fill-color);\n",
              "      border-top-color: var(--fill-color);\n",
              "    }\n",
              "    60% {\n",
              "      border-color: transparent;\n",
              "      border-right-color: var(--fill-color);\n",
              "    }\n",
              "    80% {\n",
              "      border-color: transparent;\n",
              "      border-right-color: var(--fill-color);\n",
              "      border-bottom-color: var(--fill-color);\n",
              "    }\n",
              "    90% {\n",
              "      border-color: transparent;\n",
              "      border-bottom-color: var(--fill-color);\n",
              "    }\n",
              "  }\n",
              "</style>\n",
              "\n",
              "  <script>\n",
              "    async function quickchart(key) {\n",
              "      const quickchartButtonEl =\n",
              "        document.querySelector('#' + key + ' button');\n",
              "      quickchartButtonEl.disabled = true;  // To prevent multiple clicks.\n",
              "      quickchartButtonEl.classList.add('colab-df-spinner');\n",
              "      try {\n",
              "        const charts = await google.colab.kernel.invokeFunction(\n",
              "            'suggestCharts', [key], {});\n",
              "      } catch (error) {\n",
              "        console.error('Error during call to suggestCharts:', error);\n",
              "      }\n",
              "      quickchartButtonEl.classList.remove('colab-df-spinner');\n",
              "      quickchartButtonEl.classList.add('colab-df-quickchart-complete');\n",
              "    }\n",
              "    (() => {\n",
              "      let quickchartButtonEl =\n",
              "        document.querySelector('#df-dbd11866-0539-4e05-a8d7-9113655ec707 button');\n",
              "      quickchartButtonEl.style.display =\n",
              "        google.colab.kernel.accessAllowed ? 'block' : 'none';\n",
              "    })();\n",
              "  </script>\n",
              "</div>\n",
              "    </div>\n",
              "  </div>\n"
            ],
            "text/plain": [
              "     v1                                                 v2 Unnamed: 2  \\\n",
              "0   ham  Go until jurong point, crazy.. Available only ...        NaN   \n",
              "1   ham                      Ok lar... Joking wif u oni...        NaN   \n",
              "2  spam  Free entry in 2 a wkly comp to win FA Cup fina...        NaN   \n",
              "3   ham  U dun say so early hor... U c already then say...        NaN   \n",
              "4   ham  Nah I don't think he goes to usf, he lives aro...        NaN   \n",
              "\n",
              "  Unnamed: 3 Unnamed: 4  \n",
              "0        NaN        NaN  \n",
              "1        NaN        NaN  \n",
              "2        NaN        NaN  \n",
              "3        NaN        NaN  \n",
              "4        NaN        NaN  "
            ]
          },
          "execution_count": 4,
          "metadata": {},
          "output_type": "execute_result"
        }
      ],
      "source": [
        "data = pd.read_csv(\"spam.csv\", encoding='ISO-8859-1')\n",
        "data.head()"
      ]
    },
    {
      "cell_type": "code",
      "execution_count": 5,
      "metadata": {
        "colab": {
          "base_uri": "https://localhost:8080/"
        },
        "id": "H1Z39o9eaHgA",
        "outputId": "a8b53f11-62ee-4409-ce1d-2f5b9f95fe63"
      },
      "outputs": [
        {
          "name": "stdout",
          "output_type": "stream",
          "text": [
            "The number of rows are: 5572\n"
          ]
        }
      ],
      "source": [
        "print(f\"The number of rows are: {data.shape[0]}\")\n",
        "x = data.v2\n",
        "y = data.v1"
      ]
    },
    {
      "cell_type": "markdown",
      "metadata": {
        "id": "76TC1SaOcK23"
      },
      "source": [
        "## Data Preprocessing"
      ]
    },
    {
      "cell_type": "markdown",
      "metadata": {
        "id": "p-V5iDFucrsv"
      },
      "source": [
        "Making the text lowercase -> reducing the complexity of the model"
      ]
    },
    {
      "cell_type": "code",
      "execution_count": 6,
      "metadata": {
        "id": "xjR38Q3Ccbt3"
      },
      "outputs": [],
      "source": [
        "def to_lower(value):\n",
        "  x_lower = value.map(lambda x: x.lower())\n",
        "  return x_lower"
      ]
    },
    {
      "cell_type": "code",
      "execution_count": 7,
      "metadata": {
        "id": "LT2u9ZnbdNWc"
      },
      "outputs": [],
      "source": [
        "#making a copy of the column x, so we do not make changes to the actual data\n",
        "x_copy = x.copy()\n",
        "x_copy = to_lower(x_copy)"
      ]
    },
    {
      "cell_type": "code",
      "execution_count": 8,
      "metadata": {
        "colab": {
          "base_uri": "https://localhost:8080/"
        },
        "id": "iiEHvbONe_gm",
        "outputId": "079b8d62-0483-4108-d90e-91c56a19f70c"
      },
      "outputs": [
        {
          "data": {
            "text/plain": [
              "0    go until jurong point, crazy.. available only ...\n",
              "1                        ok lar... joking wif u oni...\n",
              "2    free entry in 2 a wkly comp to win fa cup fina...\n",
              "3    u dun say so early hor... u c already then say...\n",
              "4    nah i don't think he goes to usf, he lives aro...\n",
              "Name: v2, dtype: object"
            ]
          },
          "execution_count": 8,
          "metadata": {},
          "output_type": "execute_result"
        }
      ],
      "source": [
        "x_copy.head()"
      ]
    },
    {
      "cell_type": "markdown",
      "metadata": {
        "id": "pd2q6JXcfErE"
      },
      "source": [
        "Removal of special characters, numbers. For this everything that is not in the pattern is removed."
      ]
    },
    {
      "cell_type": "code",
      "execution_count": 9,
      "metadata": {
        "id": "IEpNZDIqffhP"
      },
      "outputs": [],
      "source": [
        "def clean_text(value):\n",
        "  #only small letters and big letters are kept\n",
        "  pattern = '[^a-zA-Z\\s]'\n",
        "  processed_data = []\n",
        "  for i in value:\n",
        "    new_value = re.sub(pattern, '', i)\n",
        "    processed_data.append(new_value)\n",
        "  return processed_data"
      ]
    },
    {
      "cell_type": "code",
      "execution_count": 72,
      "metadata": {
        "colab": {
          "base_uri": "https://localhost:8080/"
        },
        "id": "TsAVa9JnhB6E",
        "outputId": "0b6c789f-3a6b-46f6-91ee-a0cb11f8dddd"
      },
      "outputs": [
        {
          "name": "stdout",
          "output_type": "stream",
          "text": [
            "go until jurong point crazy available only in bugis n great world la e buffet cine there got amore wat\n"
          ]
        }
      ],
      "source": [
        "x_copy = clean_text(x_copy)\n",
        "print(x_copy[0])"
      ]
    },
    {
      "cell_type": "markdown",
      "metadata": {
        "id": "gZNsX2W8huSl"
      },
      "source": [
        "Processing the label y. We encode spam as 1 and ham as 0."
      ]
    },
    {
      "cell_type": "code",
      "execution_count": 73,
      "metadata": {
        "colab": {
          "base_uri": "https://localhost:8080/"
        },
        "id": "m-QU7eWGhi72",
        "outputId": "b1835ed9-5f37-4ca9-e12e-c4d2fc48da3e"
      },
      "outputs": [
        {
          "data": {
            "text/plain": [
              "array([[0],\n",
              "       [0],\n",
              "       [1],\n",
              "       ...,\n",
              "       [0],\n",
              "       [0],\n",
              "       [0]])"
            ]
          },
          "execution_count": 73,
          "metadata": {},
          "output_type": "execute_result"
        }
      ],
      "source": [
        "counter = 0\n",
        "arr = []\n",
        "for label in y:\n",
        "    if label == 'spam':\n",
        "        counter += 1\n",
        "        arr.append(1)\n",
        "    else:\n",
        "        arr.append(0)\n",
        "\n",
        "y_copy = arr\n",
        "# Convert y to a numpy array and reshape it\n",
        "y_copy = np.array(y_copy).reshape(-1, 1)\n",
        "\n",
        "y_copy #(ne, 1)\n"
      ]
    },
    {
      "cell_type": "code",
      "execution_count": 74,
      "metadata": {
        "colab": {
          "base_uri": "https://localhost:8080/"
        },
        "id": "ubiiBgqaKCSK",
        "outputId": "d5db6158-d900-43ea-b812-ac220e1b881c"
      },
      "outputs": [
        {
          "name": "stdout",
          "output_type": "stream",
          "text": [
            "There are 747 spam emails and 4825 not spam emails\n"
          ]
        }
      ],
      "source": [
        "print(f\"There are {counter} spam emails and {data.shape[0] - counter} not spam emails\")"
      ]
    },
    {
      "cell_type": "markdown",
      "metadata": {
        "id": "W24AICN-iZJH"
      },
      "source": [
        "## Tokenization using Keras Tokenizer class.\n",
        "Every unique word is encoded as an unique integer. No two different words can have the same integer. In this way we keep track of the words order, which makes the model more accurately classify the emails."
      ]
    },
    {
      "cell_type": "code",
      "execution_count": 12,
      "metadata": {
        "id": "6vSHz7Uejw8-"
      },
      "outputs": [],
      "source": [
        "tokenizer = Tokenizer()\n",
        "tokenizer.fit_on_texts(x_copy)\n",
        "#converts text to sequence of integers\n",
        "x_encoded = tokenizer.texts_to_sequences(x_copy)\n",
        "vocab_word_to_index = tokenizer.word_index"
      ]
    },
    {
      "cell_type": "code",
      "execution_count": 13,
      "metadata": {
        "colab": {
          "base_uri": "https://localhost:8080/"
        },
        "id": "R-gfvfxZkE3m",
        "outputId": "db723a07-ae6d-4fee-c811-a9cdbaeb17be"
      },
      "outputs": [
        {
          "name": "stdout",
          "output_type": "stream",
          "text": [
            "just forced myself to eat a slice im really not hungry tho this sucks mark is getting worried he knows im sick when i turn down pizza lol\n",
            "[36, 3982, 934, 1, 310, 4, 2715, 22, 146, 24, 735, 633, 39, 1218, 1107, 9, 242, 1015, 70, 935, 22, 1016, 43, 2, 1766, 223, 1108, 175]\n"
          ]
        }
      ],
      "source": [
        "print(x_copy[25])\n",
        "print(x_encoded[25])"
      ]
    },
    {
      "cell_type": "markdown",
      "metadata": {
        "id": "VxdznwZmx8ej"
      },
      "source": [
        "## Padding using pad_sequences() from Keras"
      ]
    },
    {
      "cell_type": "markdown",
      "metadata": {
        "id": "3NSb3_h0mfpn"
      },
      "source": [
        "When we pad the sequences we want to know how many times to unroll the network. For this we get the lengths of all documents and choose the biggest one for maxlen."
      ]
    },
    {
      "cell_type": "code",
      "execution_count": 14,
      "metadata": {
        "colab": {
          "base_uri": "https://localhost:8080/"
        },
        "id": "sfSsiofguCMx",
        "outputId": "ae9652dd-11f3-4ad5-d097-4dcad64e61fd"
      },
      "outputs": [
        {
          "name": "stdout",
          "output_type": "stream",
          "text": [
            "The length of the largest document is 171\n"
          ]
        }
      ],
      "source": [
        "def lenghts(X):\n",
        "    arr = []\n",
        "  #loop through each row\n",
        "    for i in X:\n",
        "        arr.append(len(i))\n",
        "    return arr\n",
        "\n",
        "\n",
        "length = max(lenghts(x_encoded))\n",
        "print(f'The length of the largest document is {length}')"
      ]
    },
    {
      "cell_type": "markdown",
      "metadata": {
        "id": "M24_LYU3uYNr"
      },
      "source": [
        "We proceed to pad the sequences using Keras pad_sequences(). Sentences longer than maxlen will be truncated, sentences shorter than maxlen will be padded with 0. The padding is done before the sentence and the trucating after the sentence.\n",
        "vocab_size is the size of the vocabulary, the number of unique integers of the tokenized data. Since the Keras Tokenizer starts numbering tokens from 1, searching for the largest integer in the x_padded 2D array is our approach. At the end we add 1 to the vocab_size to account for padding."
      ]
    },
    {
      "cell_type": "code",
      "execution_count": 15,
      "metadata": {
        "colab": {
          "base_uri": "https://localhost:8080/"
        },
        "id": "8OjfwWMiu8rJ",
        "outputId": "45d134b6-3c67-409d-b01c-233a4cdd7068"
      },
      "outputs": [
        {
          "name": "stdout",
          "output_type": "stream",
          "text": [
            "The size of vocab is 8541\n"
          ]
        }
      ],
      "source": [
        "x_padded = pad_sequences(x_encoded, maxlen= length, padding='pre', truncating='post')\n",
        "vocab_size = np.max(np.array(x_padded)) + 1\n",
        "print(f'The size of vocab is {vocab_size}')"
      ]
    },
    {
      "cell_type": "code",
      "execution_count": 16,
      "metadata": {
        "colab": {
          "base_uri": "https://localhost:8080/"
        },
        "id": "vbmpkwDDxmx9",
        "outputId": "c322544c-95f9-4035-cb2e-a8c36ca62f90"
      },
      "outputs": [
        {
          "name": "stdout",
          "output_type": "stream",
          "text": [
            "im gonna be home soon and i dont want to talk about this stuff anymore tonight k ive cried enough today\n",
            "[22, 218, 31, 78, 208, 7, 2, 42, 67, 1, 263, 75, 39, 277, 1104, 209, 151, 168, 3968, 411, 89]\n",
            "[   0    0    0    0    0    0    0    0    0    0    0    0    0    0\n",
            "    0    0    0    0    0    0    0    0    0    0    0    0    0    0\n",
            "    0    0    0    0    0    0    0    0    0    0    0    0    0    0\n",
            "    0    0    0    0    0    0    0    0    0    0    0    0    0    0\n",
            "    0    0    0    0    0    0    0    0    0    0    0    0    0    0\n",
            "    0    0    0    0    0    0    0    0    0    0    0    0    0    0\n",
            "    0    0    0    0    0    0    0    0    0    0    0    0    0    0\n",
            "    0    0    0    0    0    0    0    0    0    0    0    0    0    0\n",
            "    0    0    0    0    0    0    0    0    0    0    0    0    0    0\n",
            "    0    0    0    0    0    0    0    0    0    0    0    0    0    0\n",
            "    0    0    0    0    0    0    0    0    0    0   22  218   31   78\n",
            "  208    7    2   42   67    1  263   75   39  277 1104  209  151  168\n",
            " 3968  411   89]\n"
          ]
        }
      ],
      "source": [
        "print(x_copy[10])\n",
        "print(x_encoded[10])\n",
        "print(x_padded[10])"
      ]
    },
    {
      "cell_type": "markdown",
      "metadata": {
        "id": "z9cCTQLwyLHk"
      },
      "source": [
        "## Splitting the data into train and test"
      ]
    },
    {
      "cell_type": "code",
      "execution_count": 22,
      "metadata": {
        "id": "DH-n7aWUyOp-"
      },
      "outputs": [],
      "source": [
        "X_train, X_test, y_train, y_test = train_test_split(x_padded, y_copy, test_size=0.25, random_state=100)"
      ]
    },
    {
      "cell_type": "markdown",
      "metadata": {
        "id": "MPO7MKzh4yFU"
      },
      "source": [
        "## Implemenation\n",
        "We start with the LSTM a special arhitecure of RNN, which is intended to better capture long-term dependencies compared to traditional RNNs. They are capable of learning long-term dependencies in sequence data.\n",
        "The integers are mapped to denes vectors of size 64, being the dimension of the embeddings. A LSTM layer of 32 neurons is added and the activation function is sigmoid, as binary classification is performed.\n"
      ]
    },
    {
      "cell_type": "code",
      "execution_count": 23,
      "metadata": {
        "colab": {
          "base_uri": "https://localhost:8080/"
        },
        "id": "ra54K_Of5tbI",
        "outputId": "e37052ce-085c-48a5-cdab-413b2fe59188"
      },
      "outputs": [
        {
          "name": "stdout",
          "output_type": "stream",
          "text": [
            "Model: \"sequential_1\"\n",
            "_________________________________________________________________\n",
            " Layer (type)                Output Shape              Param #   \n",
            "=================================================================\n",
            " embedding_1 (Embedding)     (None, 171, 64)           546624    \n",
            "                                                                 \n",
            " lstm_1 (LSTM)               (None, 32)                12416     \n",
            "                                                                 \n",
            " dense_1 (Dense)             (None, 1)                 33        \n",
            "                                                                 \n",
            "=================================================================\n",
            "Total params: 559073 (2.13 MB)\n",
            "Trainable params: 559073 (2.13 MB)\n",
            "Non-trainable params: 0 (0.00 Byte)\n",
            "_________________________________________________________________\n"
          ]
        }
      ],
      "source": [
        "model = Sequential()\n",
        "model.add(Embedding(input_dim=vocab_size, output_dim=64, input_length= length))\n",
        "model.add(LSTM(32))\n",
        "model.add(Dense(1, activation='sigmoid'))\n",
        "model.summary()"
      ]
    },
    {
      "cell_type": "code",
      "execution_count": 24,
      "metadata": {
        "id": "QbfPaITN64pf"
      },
      "outputs": [],
      "source": [
        "model.compile(optimizer='adam', loss='binary_crossentropy', metrics=['accuracy'])\n"
      ]
    },
    {
      "cell_type": "code",
      "execution_count": 25,
      "metadata": {
        "colab": {
          "base_uri": "https://localhost:8080/"
        },
        "id": "Pvj3-sXE66Yu",
        "outputId": "565a24da-7e0c-480b-91ec-5b06f82d471d"
      },
      "outputs": [
        {
          "name": "stdout",
          "output_type": "stream",
          "text": [
            "Epoch 1/80\n",
            "93/93 [==============================] - 8s 66ms/step - loss: 0.2973 - accuracy: 0.9048 - val_loss: 0.0887 - val_accuracy: 0.9799\n",
            "Epoch 2/80\n",
            "93/93 [==============================] - 5s 55ms/step - loss: 0.0610 - accuracy: 0.9842 - val_loss: 0.0546 - val_accuracy: 0.9871\n",
            "Epoch 3/80\n",
            "93/93 [==============================] - 6s 60ms/step - loss: 0.0229 - accuracy: 0.9950 - val_loss: 0.0489 - val_accuracy: 0.9864\n",
            "Epoch 4/80\n",
            "93/93 [==============================] - 5s 58ms/step - loss: 0.0134 - accuracy: 0.9974 - val_loss: 0.0455 - val_accuracy: 0.9899\n",
            "Epoch 5/80\n",
            "93/93 [==============================] - 6s 65ms/step - loss: 0.0064 - accuracy: 0.9990 - val_loss: 0.0509 - val_accuracy: 0.9892\n",
            "Epoch 6/80\n",
            "93/93 [==============================] - 6s 66ms/step - loss: 0.0044 - accuracy: 0.9990 - val_loss: 0.0567 - val_accuracy: 0.9878\n",
            "Epoch 7/80\n",
            "93/93 [==============================] - 6s 61ms/step - loss: 0.0030 - accuracy: 0.9993 - val_loss: 0.0892 - val_accuracy: 0.9742\n",
            "Epoch 8/80\n",
            "93/93 [==============================] - 7s 73ms/step - loss: 0.0025 - accuracy: 0.9995 - val_loss: 0.0555 - val_accuracy: 0.9899\n",
            "Epoch 9/80\n",
            "93/93 [==============================] - 7s 72ms/step - loss: 0.0014 - accuracy: 0.9995 - val_loss: 0.0608 - val_accuracy: 0.9878\n",
            "Epoch 10/80\n",
            "93/93 [==============================] - 6s 64ms/step - loss: 0.0012 - accuracy: 0.9998 - val_loss: 0.0581 - val_accuracy: 0.9899\n",
            "Epoch 11/80\n",
            "93/93 [==============================] - 5s 59ms/step - loss: 8.2029e-04 - accuracy: 0.9998 - val_loss: 0.0623 - val_accuracy: 0.9892\n",
            "Epoch 12/80\n",
            "93/93 [==============================] - 5s 55ms/step - loss: 6.1397e-04 - accuracy: 1.0000 - val_loss: 0.0675 - val_accuracy: 0.9892\n",
            "Epoch 13/80\n",
            "93/93 [==============================] - 6s 60ms/step - loss: 5.5439e-04 - accuracy: 1.0000 - val_loss: 0.0692 - val_accuracy: 0.9878\n",
            "Epoch 14/80\n",
            "93/93 [==============================] - 5s 54ms/step - loss: 4.8979e-04 - accuracy: 1.0000 - val_loss: 0.0686 - val_accuracy: 0.9899\n",
            "Epoch 15/80\n",
            "93/93 [==============================] - 6s 60ms/step - loss: 3.6298e-04 - accuracy: 1.0000 - val_loss: 0.0742 - val_accuracy: 0.9885\n",
            "Epoch 16/80\n",
            "93/93 [==============================] - 5s 54ms/step - loss: 3.4931e-04 - accuracy: 1.0000 - val_loss: 0.0694 - val_accuracy: 0.9885\n",
            "Epoch 17/80\n",
            "93/93 [==============================] - 6s 60ms/step - loss: 2.9291e-04 - accuracy: 1.0000 - val_loss: 0.0732 - val_accuracy: 0.9885\n",
            "Epoch 18/80\n",
            "93/93 [==============================] - 5s 58ms/step - loss: 2.3165e-04 - accuracy: 1.0000 - val_loss: 0.0737 - val_accuracy: 0.9899\n",
            "Epoch 19/80\n",
            "93/93 [==============================] - 7s 73ms/step - loss: 2.3218e-04 - accuracy: 1.0000 - val_loss: 0.0738 - val_accuracy: 0.9885\n",
            "Epoch 20/80\n",
            "93/93 [==============================] - 5s 54ms/step - loss: 1.9333e-04 - accuracy: 1.0000 - val_loss: 0.0780 - val_accuracy: 0.9885\n",
            "Epoch 21/80\n",
            "93/93 [==============================] - 5s 55ms/step - loss: 1.6142e-04 - accuracy: 1.0000 - val_loss: 0.0831 - val_accuracy: 0.9885\n",
            "Epoch 22/80\n",
            "93/93 [==============================] - 5s 56ms/step - loss: 1.6950e-04 - accuracy: 1.0000 - val_loss: 0.0783 - val_accuracy: 0.9885\n",
            "Epoch 23/80\n",
            "93/93 [==============================] - 5s 54ms/step - loss: 1.3641e-04 - accuracy: 1.0000 - val_loss: 0.0810 - val_accuracy: 0.9885\n",
            "Epoch 24/80\n",
            "93/93 [==============================] - 6s 61ms/step - loss: 1.1705e-04 - accuracy: 1.0000 - val_loss: 0.0842 - val_accuracy: 0.9885\n",
            "Epoch 25/80\n",
            "93/93 [==============================] - 5s 55ms/step - loss: 1.0711e-04 - accuracy: 1.0000 - val_loss: 0.0858 - val_accuracy: 0.9885\n",
            "Epoch 26/80\n",
            "93/93 [==============================] - 7s 70ms/step - loss: 9.5625e-05 - accuracy: 1.0000 - val_loss: 0.0875 - val_accuracy: 0.9878\n",
            "Epoch 27/80\n",
            "93/93 [==============================] - 6s 63ms/step - loss: 8.5379e-05 - accuracy: 1.0000 - val_loss: 0.0857 - val_accuracy: 0.9878\n",
            "Epoch 28/80\n",
            "93/93 [==============================] - 6s 67ms/step - loss: 9.9558e-05 - accuracy: 1.0000 - val_loss: 0.0816 - val_accuracy: 0.9885\n",
            "Epoch 29/80\n",
            "93/93 [==============================] - 5s 54ms/step - loss: 7.8266e-05 - accuracy: 1.0000 - val_loss: 0.0866 - val_accuracy: 0.9878\n",
            "Epoch 30/80\n",
            "93/93 [==============================] - 6s 65ms/step - loss: 6.7282e-05 - accuracy: 1.0000 - val_loss: 0.0916 - val_accuracy: 0.9878\n",
            "Epoch 31/80\n",
            "93/93 [==============================] - 5s 54ms/step - loss: 6.3587e-05 - accuracy: 1.0000 - val_loss: 0.0917 - val_accuracy: 0.9871\n",
            "Epoch 32/80\n",
            "93/93 [==============================] - 6s 61ms/step - loss: 5.6629e-05 - accuracy: 1.0000 - val_loss: 0.0930 - val_accuracy: 0.9864\n",
            "Epoch 33/80\n",
            "93/93 [==============================] - 5s 54ms/step - loss: 5.1536e-05 - accuracy: 1.0000 - val_loss: 0.0953 - val_accuracy: 0.9878\n",
            "Epoch 34/80\n",
            "93/93 [==============================] - 6s 60ms/step - loss: 4.8759e-05 - accuracy: 1.0000 - val_loss: 0.0958 - val_accuracy: 0.9871\n",
            "Epoch 35/80\n",
            "93/93 [==============================] - 5s 55ms/step - loss: 4.6633e-05 - accuracy: 1.0000 - val_loss: 0.1008 - val_accuracy: 0.9856\n",
            "Epoch 36/80\n",
            "93/93 [==============================] - 6s 60ms/step - loss: 4.0861e-05 - accuracy: 1.0000 - val_loss: 0.1064 - val_accuracy: 0.9849\n",
            "Epoch 37/80\n",
            "93/93 [==============================] - 5s 56ms/step - loss: 3.8004e-05 - accuracy: 1.0000 - val_loss: 0.1091 - val_accuracy: 0.9849\n",
            "Epoch 38/80\n",
            "93/93 [==============================] - 6s 59ms/step - loss: 3.5111e-05 - accuracy: 1.0000 - val_loss: 0.1092 - val_accuracy: 0.9856\n",
            "Epoch 39/80\n",
            "93/93 [==============================] - 7s 75ms/step - loss: 3.2162e-05 - accuracy: 1.0000 - val_loss: 0.1140 - val_accuracy: 0.9842\n",
            "Epoch 40/80\n",
            "93/93 [==============================] - 6s 61ms/step - loss: 3.0318e-05 - accuracy: 1.0000 - val_loss: 0.1146 - val_accuracy: 0.9849\n",
            "Epoch 41/80\n",
            "93/93 [==============================] - 6s 60ms/step - loss: 2.8467e-05 - accuracy: 1.0000 - val_loss: 0.1048 - val_accuracy: 0.9856\n",
            "Epoch 42/80\n",
            "93/93 [==============================] - 6s 60ms/step - loss: 2.7752e-05 - accuracy: 1.0000 - val_loss: 0.1009 - val_accuracy: 0.9878\n",
            "Epoch 43/80\n",
            "93/93 [==============================] - 5s 56ms/step - loss: 2.5847e-05 - accuracy: 1.0000 - val_loss: 0.1055 - val_accuracy: 0.9864\n",
            "Epoch 44/80\n",
            "93/93 [==============================] - 6s 62ms/step - loss: 2.3795e-05 - accuracy: 1.0000 - val_loss: 0.1088 - val_accuracy: 0.9864\n",
            "Epoch 45/80\n",
            "93/93 [==============================] - 6s 62ms/step - loss: 2.2108e-05 - accuracy: 1.0000 - val_loss: 0.1151 - val_accuracy: 0.9849\n",
            "Epoch 46/80\n",
            "93/93 [==============================] - 5s 57ms/step - loss: 2.1397e-05 - accuracy: 1.0000 - val_loss: 0.1150 - val_accuracy: 0.9849\n",
            "Epoch 47/80\n",
            "93/93 [==============================] - 6s 62ms/step - loss: 2.0016e-05 - accuracy: 1.0000 - val_loss: 0.1101 - val_accuracy: 0.9871\n",
            "Epoch 48/80\n",
            "93/93 [==============================] - 6s 63ms/step - loss: 1.8862e-05 - accuracy: 1.0000 - val_loss: 0.1145 - val_accuracy: 0.9864\n",
            "Epoch 49/80\n",
            "93/93 [==============================] - 7s 71ms/step - loss: 1.7307e-05 - accuracy: 1.0000 - val_loss: 0.1135 - val_accuracy: 0.9871\n",
            "Epoch 50/80\n",
            "93/93 [==============================] - 5s 59ms/step - loss: 1.6550e-05 - accuracy: 1.0000 - val_loss: 0.1143 - val_accuracy: 0.9871\n",
            "Epoch 51/80\n",
            "93/93 [==============================] - 5s 57ms/step - loss: 1.5369e-05 - accuracy: 1.0000 - val_loss: 0.1222 - val_accuracy: 0.9842\n",
            "Epoch 52/80\n",
            "93/93 [==============================] - 5s 57ms/step - loss: 1.4431e-05 - accuracy: 1.0000 - val_loss: 0.1191 - val_accuracy: 0.9864\n",
            "Epoch 53/80\n",
            "93/93 [==============================] - 6s 60ms/step - loss: 1.3740e-05 - accuracy: 1.0000 - val_loss: 0.1226 - val_accuracy: 0.9842\n",
            "Epoch 54/80\n",
            "93/93 [==============================] - 5s 55ms/step - loss: 1.3196e-05 - accuracy: 1.0000 - val_loss: 0.1277 - val_accuracy: 0.9842\n",
            "Epoch 55/80\n",
            "93/93 [==============================] - 6s 67ms/step - loss: 1.1739e-05 - accuracy: 1.0000 - val_loss: 0.1181 - val_accuracy: 0.9864\n",
            "Epoch 56/80\n",
            "93/93 [==============================] - 5s 55ms/step - loss: 0.0071 - accuracy: 0.9993 - val_loss: 0.0944 - val_accuracy: 0.9763\n",
            "Epoch 57/80\n",
            "93/93 [==============================] - 6s 60ms/step - loss: 0.0066 - accuracy: 0.9983 - val_loss: 0.0888 - val_accuracy: 0.9835\n",
            "Epoch 58/80\n",
            "93/93 [==============================] - 5s 54ms/step - loss: 0.0027 - accuracy: 0.9995 - val_loss: 0.0714 - val_accuracy: 0.9864\n",
            "Epoch 59/80\n",
            "93/93 [==============================] - 6s 62ms/step - loss: 0.0012 - accuracy: 0.9998 - val_loss: 0.0688 - val_accuracy: 0.9856\n",
            "Epoch 60/80\n",
            "93/93 [==============================] - 5s 53ms/step - loss: 2.3606e-04 - accuracy: 1.0000 - val_loss: 0.0716 - val_accuracy: 0.9878\n",
            "Epoch 61/80\n",
            "93/93 [==============================] - 6s 63ms/step - loss: 1.1621e-04 - accuracy: 1.0000 - val_loss: 0.0725 - val_accuracy: 0.9885\n",
            "Epoch 62/80\n",
            "93/93 [==============================] - 5s 54ms/step - loss: 8.9785e-05 - accuracy: 1.0000 - val_loss: 0.0739 - val_accuracy: 0.9878\n",
            "Epoch 63/80\n",
            "93/93 [==============================] - 6s 60ms/step - loss: 7.3379e-05 - accuracy: 1.0000 - val_loss: 0.0756 - val_accuracy: 0.9871\n",
            "Epoch 64/80\n",
            "93/93 [==============================] - 5s 54ms/step - loss: 6.2544e-05 - accuracy: 1.0000 - val_loss: 0.0768 - val_accuracy: 0.9871\n",
            "Epoch 65/80\n",
            "93/93 [==============================] - 5s 57ms/step - loss: 5.4531e-05 - accuracy: 1.0000 - val_loss: 0.0782 - val_accuracy: 0.9864\n",
            "Epoch 66/80\n",
            "93/93 [==============================] - 6s 69ms/step - loss: 4.8051e-05 - accuracy: 1.0000 - val_loss: 0.0792 - val_accuracy: 0.9864\n",
            "Epoch 67/80\n",
            "93/93 [==============================] - 7s 79ms/step - loss: 4.3090e-05 - accuracy: 1.0000 - val_loss: 0.0804 - val_accuracy: 0.9864\n",
            "Epoch 68/80\n",
            "93/93 [==============================] - 6s 65ms/step - loss: 3.8657e-05 - accuracy: 1.0000 - val_loss: 0.0814 - val_accuracy: 0.9864\n",
            "Epoch 69/80\n",
            "93/93 [==============================] - 7s 72ms/step - loss: 3.5110e-05 - accuracy: 1.0000 - val_loss: 0.0822 - val_accuracy: 0.9864\n",
            "Epoch 70/80\n",
            "93/93 [==============================] - 6s 62ms/step - loss: 3.1936e-05 - accuracy: 1.0000 - val_loss: 0.0833 - val_accuracy: 0.9864\n",
            "Epoch 71/80\n",
            "93/93 [==============================] - 6s 60ms/step - loss: 2.9252e-05 - accuracy: 1.0000 - val_loss: 0.0841 - val_accuracy: 0.9864\n",
            "Epoch 72/80\n",
            "93/93 [==============================] - 5s 55ms/step - loss: 2.6846e-05 - accuracy: 1.0000 - val_loss: 0.0850 - val_accuracy: 0.9864\n",
            "Epoch 73/80\n",
            "93/93 [==============================] - 6s 60ms/step - loss: 2.4723e-05 - accuracy: 1.0000 - val_loss: 0.0856 - val_accuracy: 0.9864\n",
            "Epoch 74/80\n",
            "93/93 [==============================] - 5s 57ms/step - loss: 2.2862e-05 - accuracy: 1.0000 - val_loss: 0.0864 - val_accuracy: 0.9864\n",
            "Epoch 75/80\n",
            "93/93 [==============================] - 6s 60ms/step - loss: 2.1209e-05 - accuracy: 1.0000 - val_loss: 0.0872 - val_accuracy: 0.9864\n",
            "Epoch 76/80\n",
            "93/93 [==============================] - 6s 69ms/step - loss: 1.9675e-05 - accuracy: 1.0000 - val_loss: 0.0879 - val_accuracy: 0.9864\n",
            "Epoch 77/80\n",
            "93/93 [==============================] - 7s 72ms/step - loss: 1.8323e-05 - accuracy: 1.0000 - val_loss: 0.0886 - val_accuracy: 0.9864\n",
            "Epoch 78/80\n",
            "93/93 [==============================] - 6s 63ms/step - loss: 1.7124e-05 - accuracy: 1.0000 - val_loss: 0.0892 - val_accuracy: 0.9864\n",
            "Epoch 79/80\n",
            "93/93 [==============================] - 7s 75ms/step - loss: 1.5963e-05 - accuracy: 1.0000 - val_loss: 0.0899 - val_accuracy: 0.9864\n",
            "Epoch 80/80\n",
            "93/93 [==============================] - 6s 61ms/step - loss: 1.4949e-05 - accuracy: 1.0000 - val_loss: 0.0905 - val_accuracy: 0.9864\n"
          ]
        },
        {
          "data": {
            "text/plain": [
              "<keras.src.callbacks.History at 0x7b604b77b730>"
            ]
          },
          "execution_count": 25,
          "metadata": {},
          "output_type": "execute_result"
        }
      ],
      "source": [
        "#training the model for 80 epochs, which is appropriate given the batch_size and iterable data size\n",
        "model.fit(X_train, y_train, epochs=80, validation_data=(X_test, y_test), batch_size= 45)"
      ]
    },
    {
      "cell_type": "markdown",
      "metadata": {
        "id": "BtDxW3iy9Dsh"
      },
      "source": [
        "As you can see the model attained a high accuracy on testing data, 98.64% accuracy."
      ]
    },
    {
      "cell_type": "code",
      "execution_count": 27,
      "metadata": {
        "colab": {
          "base_uri": "https://localhost:8080/",
          "height": 472
        },
        "id": "Z0dt7yN47xym",
        "outputId": "2634c6a8-9b03-41a7-a0c6-39d384a76981"
      },
      "outputs": [
        {
          "data": {
            "image/png": "[encoded data removed]",
            "text/plain": [
              "<Figure size 640x480 with 1 Axes>"
            ]
          },
          "metadata": {},
          "output_type": "display_data"
        }
      ],
      "source": [
        "# visualise training history\n",
        "plt.plot(model.history.history['accuracy'])\n",
        "plt.plot(model.history.history['val_accuracy'])\n",
        "plt.title('model accuracy')\n",
        "plt.ylabel('accuracy')\n",
        "plt.xlabel('epoch')\n",
        "plt.ylim(0,1)\n",
        "plt.legend(['train', 'test'], loc=\"lower right\")\n",
        "plt.show()"
      ]
    },
    {
      "cell_type": "markdown",
      "metadata": {
        "id": "ETwRUEvi7vka"
      },
      "source": [
        "We then proceed to implement a GRU model, which is desinged for capturing long-term dependencies in sequence data like LSTM, but they do so with a simpler structural design. GRU does not have a separate cell state. It combines the cell state and the hidden state, simplifying the model and reducing the number of parameters."
      ]
    },
    {
      "cell_type": "code",
      "execution_count": 32,
      "metadata": {
        "colab": {
          "base_uri": "https://localhost:8080/"
        },
        "id": "6x2ptu2U8hvX",
        "outputId": "9981db25-38d0-4ff6-9ddd-b7d5ccc489b1"
      },
      "outputs": [
        {
          "name": "stdout",
          "output_type": "stream",
          "text": [
            "Model: \"sequential_4\"\n",
            "_________________________________________________________________\n",
            " Layer (type)                Output Shape              Param #   \n",
            "=================================================================\n",
            " embedding_3 (Embedding)     (None, 171, 64)           546624    \n",
            "                                                                 \n",
            " gru_1 (GRU)                 (None, 32)                9408      \n",
            "                                                                 \n",
            " dense_3 (Dense)             (None, 1)                 33        \n",
            "                                                                 \n",
            "=================================================================\n",
            "Total params: 556065 (2.12 MB)\n",
            "Trainable params: 556065 (2.12 MB)\n",
            "Non-trainable params: 0 (0.00 Byte)\n",
            "_________________________________________________________________\n"
          ]
        }
      ],
      "source": [
        "model = Sequential()\n",
        "model.add(Embedding(input_dim=vocab_size, output_dim=64, input_length=length))\n",
        "model.add(GRU(32))\n",
        "model.add(Dense(1, activation='sigmoid'))\n",
        "# model summary\n",
        "model.summary()\n"
      ]
    },
    {
      "cell_type": "code",
      "execution_count": 33,
      "metadata": {
        "id": "pflJGKPA8nJt"
      },
      "outputs": [],
      "source": [
        "model.compile(optimizer='adam', loss='binary_crossentropy', metrics=['accuracy'])"
      ]
    },
    {
      "cell_type": "code",
      "execution_count": 34,
      "metadata": {
        "colab": {
          "base_uri": "https://localhost:8080/"
        },
        "id": "ggo0oc0X8q_b",
        "outputId": "bf8067b8-8bb9-4241-bb01-8264f8dc22c2"
      },
      "outputs": [
        {
          "name": "stdout",
          "output_type": "stream",
          "text": [
            "Epoch 1/80\n",
            "93/93 [==============================] - 8s 64ms/step - loss: 0.3336 - accuracy: 0.8837 - val_loss: 0.0938 - val_accuracy: 0.9734\n",
            "Epoch 2/80\n",
            "93/93 [==============================] - 6s 64ms/step - loss: 0.0566 - accuracy: 0.9847 - val_loss: 0.0530 - val_accuracy: 0.9871\n",
            "Epoch 3/80\n",
            "93/93 [==============================] - 7s 77ms/step - loss: 0.0218 - accuracy: 0.9955 - val_loss: 0.0504 - val_accuracy: 0.9892\n",
            "Epoch 4/80\n",
            "93/93 [==============================] - 6s 60ms/step - loss: 0.0106 - accuracy: 0.9974 - val_loss: 0.0483 - val_accuracy: 0.9878\n",
            "Epoch 5/80\n",
            "93/93 [==============================] - 7s 73ms/step - loss: 0.0055 - accuracy: 0.9990 - val_loss: 0.0496 - val_accuracy: 0.9885\n",
            "Epoch 6/80\n",
            "93/93 [==============================] - 6s 69ms/step - loss: 0.0037 - accuracy: 0.9993 - val_loss: 0.0525 - val_accuracy: 0.9871\n",
            "Epoch 7/80\n",
            "93/93 [==============================] - 6s 61ms/step - loss: 0.0019 - accuracy: 0.9995 - val_loss: 0.0621 - val_accuracy: 0.9864\n",
            "Epoch 8/80\n",
            "93/93 [==============================] - 6s 64ms/step - loss: 0.0018 - accuracy: 0.9995 - val_loss: 0.0549 - val_accuracy: 0.9878\n",
            "Epoch 9/80\n",
            "93/93 [==============================] - 6s 65ms/step - loss: 8.4647e-04 - accuracy: 1.0000 - val_loss: 0.0593 - val_accuracy: 0.9871\n",
            "Epoch 10/80\n",
            "93/93 [==============================] - 5s 57ms/step - loss: 5.2243e-04 - accuracy: 1.0000 - val_loss: 0.0592 - val_accuracy: 0.9885\n",
            "Epoch 11/80\n",
            "93/93 [==============================] - 5s 50ms/step - loss: 3.6344e-04 - accuracy: 1.0000 - val_loss: 0.0637 - val_accuracy: 0.9871\n",
            "Epoch 12/80\n",
            "93/93 [==============================] - 6s 63ms/step - loss: 2.7759e-04 - accuracy: 1.0000 - val_loss: 0.0651 - val_accuracy: 0.9878\n",
            "Epoch 13/80\n",
            "93/93 [==============================] - 7s 71ms/step - loss: 2.2160e-04 - accuracy: 1.0000 - val_loss: 0.0668 - val_accuracy: 0.9878\n",
            "Epoch 14/80\n",
            "93/93 [==============================] - 7s 72ms/step - loss: 1.8278e-04 - accuracy: 1.0000 - val_loss: 0.0686 - val_accuracy: 0.9878\n",
            "Epoch 15/80\n",
            "93/93 [==============================] - 6s 64ms/step - loss: 1.5294e-04 - accuracy: 1.0000 - val_loss: 0.0692 - val_accuracy: 0.9885\n",
            "Epoch 16/80\n",
            "93/93 [==============================] - 5s 56ms/step - loss: 1.2965e-04 - accuracy: 1.0000 - val_loss: 0.0722 - val_accuracy: 0.9871\n",
            "Epoch 17/80\n",
            "93/93 [==============================] - 5s 50ms/step - loss: 1.1364e-04 - accuracy: 1.0000 - val_loss: 0.0742 - val_accuracy: 0.9864\n",
            "Epoch 18/80\n",
            "93/93 [==============================] - 5s 49ms/step - loss: 9.7958e-05 - accuracy: 1.0000 - val_loss: 0.0736 - val_accuracy: 0.9878\n",
            "Epoch 19/80\n",
            "93/93 [==============================] - 5s 57ms/step - loss: 8.6251e-05 - accuracy: 1.0000 - val_loss: 0.0760 - val_accuracy: 0.9871\n",
            "Epoch 20/80\n",
            "93/93 [==============================] - 5s 50ms/step - loss: 7.6887e-05 - accuracy: 1.0000 - val_loss: 0.0767 - val_accuracy: 0.9878\n",
            "Epoch 21/80\n",
            "93/93 [==============================] - 6s 60ms/step - loss: 6.8851e-05 - accuracy: 1.0000 - val_loss: 0.0780 - val_accuracy: 0.9878\n",
            "Epoch 22/80\n",
            "93/93 [==============================] - 5s 49ms/step - loss: 0.0288 - accuracy: 0.9919 - val_loss: 0.0751 - val_accuracy: 0.9792\n",
            "Epoch 23/80\n",
            "93/93 [==============================] - 5s 53ms/step - loss: 0.0023 - accuracy: 0.9990 - val_loss: 0.0769 - val_accuracy: 0.9828\n",
            "Epoch 24/80\n",
            "93/93 [==============================] - 5s 53ms/step - loss: 6.4545e-04 - accuracy: 1.0000 - val_loss: 0.0759 - val_accuracy: 0.9813\n",
            "Epoch 25/80\n",
            "93/93 [==============================] - 5s 51ms/step - loss: 4.1117e-04 - accuracy: 1.0000 - val_loss: 0.0766 - val_accuracy: 0.9821\n",
            "Epoch 26/80\n",
            "93/93 [==============================] - 7s 71ms/step - loss: 3.3084e-04 - accuracy: 1.0000 - val_loss: 0.0777 - val_accuracy: 0.9821\n",
            "Epoch 27/80\n",
            "93/93 [==============================] - 7s 76ms/step - loss: 2.7559e-04 - accuracy: 1.0000 - val_loss: 0.0786 - val_accuracy: 0.9821\n",
            "Epoch 28/80\n",
            "93/93 [==============================] - 6s 59ms/step - loss: 2.3654e-04 - accuracy: 1.0000 - val_loss: 0.0794 - val_accuracy: 0.9806\n",
            "Epoch 29/80\n",
            "93/93 [==============================] - 6s 60ms/step - loss: 2.0537e-04 - accuracy: 1.0000 - val_loss: 0.0805 - val_accuracy: 0.9806\n",
            "Epoch 30/80\n",
            "93/93 [==============================] - 5s 53ms/step - loss: 1.8111e-04 - accuracy: 1.0000 - val_loss: 0.0815 - val_accuracy: 0.9806\n",
            "Epoch 31/80\n",
            "93/93 [==============================] - 5s 49ms/step - loss: 1.6092e-04 - accuracy: 1.0000 - val_loss: 0.0825 - val_accuracy: 0.9806\n",
            "Epoch 32/80\n",
            "93/93 [==============================] - 5s 59ms/step - loss: 1.4463e-04 - accuracy: 1.0000 - val_loss: 0.0835 - val_accuracy: 0.9806\n",
            "Epoch 33/80\n",
            "93/93 [==============================] - 5s 49ms/step - loss: 1.3086e-04 - accuracy: 1.0000 - val_loss: 0.0844 - val_accuracy: 0.9799\n",
            "Epoch 34/80\n",
            "93/93 [==============================] - 6s 64ms/step - loss: 1.1764e-04 - accuracy: 1.0000 - val_loss: 0.0854 - val_accuracy: 0.9799\n",
            "Epoch 35/80\n",
            "93/93 [==============================] - 5s 49ms/step - loss: 1.0736e-04 - accuracy: 1.0000 - val_loss: 0.0863 - val_accuracy: 0.9799\n",
            "Epoch 36/80\n",
            "93/93 [==============================] - 5s 55ms/step - loss: 9.8114e-05 - accuracy: 1.0000 - val_loss: 0.0873 - val_accuracy: 0.9806\n",
            "Epoch 37/80\n",
            "93/93 [==============================] - 5s 50ms/step - loss: 9.0075e-05 - accuracy: 1.0000 - val_loss: 0.0881 - val_accuracy: 0.9806\n",
            "Epoch 38/80\n",
            "93/93 [==============================] - 5s 50ms/step - loss: 8.2815e-05 - accuracy: 1.0000 - val_loss: 0.0891 - val_accuracy: 0.9813\n",
            "Epoch 39/80\n",
            "93/93 [==============================] - 5s 55ms/step - loss: 7.6496e-05 - accuracy: 1.0000 - val_loss: 0.0899 - val_accuracy: 0.9813\n",
            "Epoch 40/80\n",
            "93/93 [==============================] - 5s 50ms/step - loss: 7.0714e-05 - accuracy: 1.0000 - val_loss: 0.0908 - val_accuracy: 0.9813\n",
            "Epoch 41/80\n",
            "93/93 [==============================] - 5s 55ms/step - loss: 6.5608e-05 - accuracy: 1.0000 - val_loss: 0.0918 - val_accuracy: 0.9813\n",
            "Epoch 42/80\n",
            "93/93 [==============================] - 5s 50ms/step - loss: 6.0904e-05 - accuracy: 1.0000 - val_loss: 0.0926 - val_accuracy: 0.9813\n",
            "Epoch 43/80\n",
            "93/93 [==============================] - 5s 59ms/step - loss: 5.6719e-05 - accuracy: 1.0000 - val_loss: 0.0935 - val_accuracy: 0.9813\n",
            "Epoch 44/80\n",
            "93/93 [==============================] - 5s 54ms/step - loss: 5.2839e-05 - accuracy: 1.0000 - val_loss: 0.0943 - val_accuracy: 0.9813\n",
            "Epoch 45/80\n",
            "93/93 [==============================] - 5s 55ms/step - loss: 4.9336e-05 - accuracy: 1.0000 - val_loss: 0.0952 - val_accuracy: 0.9813\n",
            "Epoch 46/80\n",
            "93/93 [==============================] - 5s 51ms/step - loss: 4.6074e-05 - accuracy: 1.0000 - val_loss: 0.0960 - val_accuracy: 0.9813\n",
            "Epoch 47/80\n",
            "93/93 [==============================] - 5s 51ms/step - loss: 4.3121e-05 - accuracy: 1.0000 - val_loss: 0.0969 - val_accuracy: 0.9813\n",
            "Epoch 48/80\n",
            "93/93 [==============================] - 5s 56ms/step - loss: 4.0428e-05 - accuracy: 1.0000 - val_loss: 0.0978 - val_accuracy: 0.9813\n",
            "Epoch 49/80\n",
            "93/93 [==============================] - 5s 55ms/step - loss: 3.7876e-05 - accuracy: 1.0000 - val_loss: 0.0985 - val_accuracy: 0.9813\n",
            "Epoch 50/80\n",
            "93/93 [==============================] - 5s 56ms/step - loss: 3.5534e-05 - accuracy: 1.0000 - val_loss: 0.0994 - val_accuracy: 0.9813\n",
            "Epoch 51/80\n",
            "93/93 [==============================] - 5s 51ms/step - loss: 3.3384e-05 - accuracy: 1.0000 - val_loss: 0.1002 - val_accuracy: 0.9813\n",
            "Epoch 52/80\n",
            "93/93 [==============================] - 5s 55ms/step - loss: 3.1390e-05 - accuracy: 1.0000 - val_loss: 0.1009 - val_accuracy: 0.9813\n",
            "Epoch 53/80\n",
            "93/93 [==============================] - 5s 54ms/step - loss: 2.9566e-05 - accuracy: 1.0000 - val_loss: 0.1017 - val_accuracy: 0.9813\n",
            "Epoch 54/80\n",
            "93/93 [==============================] - 5s 56ms/step - loss: 2.7820e-05 - accuracy: 1.0000 - val_loss: 0.1026 - val_accuracy: 0.9813\n",
            "Epoch 55/80\n",
            "93/93 [==============================] - 5s 51ms/step - loss: 2.6210e-05 - accuracy: 1.0000 - val_loss: 0.1034 - val_accuracy: 0.9821\n",
            "Epoch 56/80\n",
            "93/93 [==============================] - 5s 54ms/step - loss: 2.4707e-05 - accuracy: 1.0000 - val_loss: 0.1042 - val_accuracy: 0.9821\n",
            "Epoch 57/80\n",
            "93/93 [==============================] - 5s 57ms/step - loss: 2.3318e-05 - accuracy: 1.0000 - val_loss: 0.1049 - val_accuracy: 0.9821\n",
            "Epoch 58/80\n",
            "93/93 [==============================] - 5s 50ms/step - loss: 2.2010e-05 - accuracy: 1.0000 - val_loss: 0.1057 - val_accuracy: 0.9821\n",
            "Epoch 59/80\n",
            "93/93 [==============================] - 5s 55ms/step - loss: 2.0785e-05 - accuracy: 1.0000 - val_loss: 0.1065 - val_accuracy: 0.9821\n",
            "Epoch 60/80\n",
            "93/93 [==============================] - 5s 51ms/step - loss: 1.9645e-05 - accuracy: 1.0000 - val_loss: 0.1072 - val_accuracy: 0.9828\n",
            "Epoch 61/80\n",
            "93/93 [==============================] - 5s 55ms/step - loss: 1.8565e-05 - accuracy: 1.0000 - val_loss: 0.1080 - val_accuracy: 0.9828\n",
            "Epoch 62/80\n",
            "93/93 [==============================] - 5s 51ms/step - loss: 1.7576e-05 - accuracy: 1.0000 - val_loss: 0.1089 - val_accuracy: 0.9828\n",
            "Epoch 63/80\n",
            "93/93 [==============================] - 6s 59ms/step - loss: 1.6624e-05 - accuracy: 1.0000 - val_loss: 0.1096 - val_accuracy: 0.9828\n",
            "Epoch 64/80\n",
            "93/93 [==============================] - 5s 51ms/step - loss: 1.5721e-05 - accuracy: 1.0000 - val_loss: 0.1105 - val_accuracy: 0.9821\n",
            "Epoch 65/80\n",
            "93/93 [==============================] - 5s 56ms/step - loss: 1.4895e-05 - accuracy: 1.0000 - val_loss: 0.1112 - val_accuracy: 0.9821\n",
            "Epoch 66/80\n",
            "93/93 [==============================] - 5s 51ms/step - loss: 1.4099e-05 - accuracy: 1.0000 - val_loss: 0.1120 - val_accuracy: 0.9821\n",
            "Epoch 67/80\n",
            "93/93 [==============================] - 5s 51ms/step - loss: 1.3365e-05 - accuracy: 1.0000 - val_loss: 0.1128 - val_accuracy: 0.9821\n",
            "Epoch 68/80\n",
            "93/93 [==============================] - 5s 56ms/step - loss: 1.2662e-05 - accuracy: 1.0000 - val_loss: 0.1137 - val_accuracy: 0.9821\n",
            "Epoch 69/80\n",
            "93/93 [==============================] - 5s 51ms/step - loss: 1.2003e-05 - accuracy: 1.0000 - val_loss: 0.1144 - val_accuracy: 0.9821\n",
            "Epoch 70/80\n",
            "93/93 [==============================] - 5s 56ms/step - loss: 1.1385e-05 - accuracy: 1.0000 - val_loss: 0.1152 - val_accuracy: 0.9821\n",
            "Epoch 71/80\n",
            "93/93 [==============================] - 5s 51ms/step - loss: 1.0792e-05 - accuracy: 1.0000 - val_loss: 0.1161 - val_accuracy: 0.9828\n",
            "Epoch 72/80\n",
            "93/93 [==============================] - 5s 55ms/step - loss: 1.0245e-05 - accuracy: 1.0000 - val_loss: 0.1169 - val_accuracy: 0.9828\n",
            "Epoch 73/80\n",
            "93/93 [==============================] - 5s 51ms/step - loss: 9.7241e-06 - accuracy: 1.0000 - val_loss: 0.1179 - val_accuracy: 0.9828\n",
            "Epoch 74/80\n",
            "93/93 [==============================] - 5s 56ms/step - loss: 9.2283e-06 - accuracy: 1.0000 - val_loss: 0.1187 - val_accuracy: 0.9828\n",
            "Epoch 75/80\n",
            "93/93 [==============================] - 5s 51ms/step - loss: 8.7541e-06 - accuracy: 1.0000 - val_loss: 0.1195 - val_accuracy: 0.9828\n",
            "Epoch 76/80\n",
            "93/93 [==============================] - 5s 54ms/step - loss: 8.3106e-06 - accuracy: 1.0000 - val_loss: 0.1203 - val_accuracy: 0.9828\n",
            "Epoch 77/80\n",
            "93/93 [==============================] - 5s 54ms/step - loss: 7.8899e-06 - accuracy: 1.0000 - val_loss: 0.1211 - val_accuracy: 0.9835\n",
            "Epoch 78/80\n",
            "93/93 [==============================] - 5s 50ms/step - loss: 7.5028e-06 - accuracy: 1.0000 - val_loss: 0.1221 - val_accuracy: 0.9835\n",
            "Epoch 79/80\n",
            "93/93 [==============================] - 5s 59ms/step - loss: 7.1236e-06 - accuracy: 1.0000 - val_loss: 0.1229 - val_accuracy: 0.9835\n",
            "Epoch 80/80\n",
            "93/93 [==============================] - 5s 54ms/step - loss: 6.7648e-06 - accuracy: 1.0000 - val_loss: 0.1237 - val_accuracy: 0.9835\n"
          ]
        },
        {
          "data": {
            "text/plain": [
              "<keras.src.callbacks.History at 0x7b60484f81f0>"
            ]
          },
          "execution_count": 34,
          "metadata": {},
          "output_type": "execute_result"
        }
      ],
      "source": [
        "model.fit(X_train, y_train, epochs=80, validation_data=(X_test, y_test), batch_size=45)"
      ]
    },
    {
      "cell_type": "markdown",
      "metadata": {
        "id": "BaTZnSHaAEzb"
      },
      "source": [
        "The LSTM arhitecture performed slightly better than the GRU by 0.0029."
      ]
    },
    {
      "cell_type": "code",
      "execution_count": 35,
      "metadata": {
        "colab": {
          "base_uri": "https://localhost:8080/",
          "height": 472
        },
        "id": "cjbc_rwP8tc6",
        "outputId": "0a82f4c8-67f6-4afe-a5c7-5069b764ee4e"
      },
      "outputs": [
        {
          "data": {
            "image/png": "[encoded data removed]",
            "text/plain": [
              "<Figure size 640x480 with 1 Axes>"
            ]
          },
          "metadata": {},
          "output_type": "display_data"
        }
      ],
      "source": [
        "# visualise training history\n",
        "plt.plot(model.history.history['accuracy'])\n",
        "plt.plot(model.history.history['val_accuracy'])\n",
        "plt.title('model accuracy')\n",
        "plt.ylabel('accuracy')\n",
        "plt.xlabel('epoch')\n",
        "plt.legend(['train', 'test'], loc=\"lower right\")\n",
        "plt.show()"
      ]
    }
  ],
  "metadata": {
    "colab": {
      "provenance": []
    },
    "kernelspec": {
      "display_name": "Python 3",
      "name": "python3"
    },
    "language_info": {
      "name": "python"
    }
  },
  "nbformat": 4,
  "nbformat_minor": 0
}
